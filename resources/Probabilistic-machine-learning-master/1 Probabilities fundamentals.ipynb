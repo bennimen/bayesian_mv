{
 "cells": [
  {
   "cell_type": "markdown",
   "metadata": {},
   "source": [
    "# Probabilities fundamentals:"
   ]
  },
  {
   "cell_type": "code",
   "execution_count": 1,
   "metadata": {},
   "outputs": [],
   "source": [
    "import numpy as np\n",
    "import matplotlib\n",
    "import matplotlib.pyplot as plt\n",
    "from mpl_toolkits.mplot3d import Axes3D\n",
    "%matplotlib inline\n",
    "\n",
    "import seaborn as sns\n",
    "sns.set_style(\"white\")\n",
    "\n",
    "import time\n",
    "\n",
    "import scipy.stats "
   ]
  },
  {
   "cell_type": "markdown",
   "metadata": {},
   "source": [
    "## Problem:\n",
    "\n",
    "The joint density function for the random variables ($X,Y$) is given by : \n",
    "\n",
    "$f(x,y)= 10xy^{2}$ ,   $0< x< y< 1 $\n",
    "\n",
    "$= 0  $ elsewhere \n",
    "\n",
    "(a) Find the marginal distribution of $X$ and $Y$ \n",
    "\n",
    "(b) Compute the probability of $0< x< 1/2, 1/4<y< 1/2 $\n",
    "\n",
    "\n"
   ]
  },
  {
   "cell_type": "markdown",
   "metadata": {},
   "source": [
    "**Please answer this problem by adding cells here.**$$ $$\n",
    "(a) for marginal distrubution of $X$: $ $ $0<y<1$\n",
    "        $$ f_{Y}(y)= \\int_{-\\infty}^{+\\infty} f(x,y) \\text{d}x = \\int_{0}^{y} 10xy^2 \\text{d}x = 5y^4 $$\n",
    "   for marginal distrubution of $Y$: $ $ $0<x<1$\n",
    "        $$ f_{X}(x)= \\int_{-\\infty}^{+\\infty} f(x,y) \\text{d}y = \\int_{x}^{1} 10xy^2 \\text{d}y = \\frac{10}{3}x(1-x^3) $$\n",
    "        $$ $$\n",
    "        $$ $$\n",
    "(b) the corresponding probability can be expressed as:\n",
    "$$ P= \\iint 10xy^2 \\text{d}x\\text{d}y $$ $$ $$\n",
    "where the integration region is formed by: $ 0<x<\\frac{1}{2}$, $\\frac{1}{4}<y<\\frac{1}{2}$, and $x<y$. Thus, the probability under that condition can be calculated as:<br>$$ $$\n",
    "$$ P(0<x<\\frac{1}{2},\\, \\frac{1}{4}<y<\\frac{1}{2}) = \\int_{\\frac{1}{4}}^{\\frac{1}{2}}\\int_{0}^{\\frac{1}{2}}10xy^2 dy dx =0.045 $$\n",
    "\n",
    "\n",
    "   "
   ]
  },
  {
   "cell_type": "markdown",
   "metadata": {},
   "source": [
    "## Problem:\n",
    "\n",
    "Sulfar Dioxide concentrations in the air samples taken in a certain region has been found to be well represented by lognormal distribution with parameters $\\mu = 2.1$ and $\\sigma= 0.8$.\n",
    "\n",
    "(a) What proportions of air samples have concentration between 3 and 6? \n",
    "\n",
    "(b) What proportion do not exceed 10?\n",
    "\n",
    "(c) What interval (a,b) is such that 95% of all air samples have concentration values in this interval, with 2.5% have values less than a, and 2.5% have values exceeding b? \n"
   ]
  },
  {
   "cell_type": "markdown",
   "metadata": {},
   "source": [
    "**Solve:** $$ $$\n",
    "For these quastions, each one of them will be simulated in Python with numpy, matplotlib, and scipy library, coordinates with probability of Lognormal Distribution. $$ $$\n",
    "Probability probability function of Lognormal:\n",
    "$$ f(x)=\\frac{1}{{\\sqrt{(2\\pi)}}{\\sigma}x}exp(-\\frac{(lnx-{\\mu})^2}{2{\\sigma}^2})  $$\n",
    "Cumulated probability function of Lognormal:\n",
    "$$F(x)=\\phi \\frac{(lnx-{\\mu})}{\\sigma}$$\n",
    "and $\\phi$ is thge cumulative distribution function of the standard normal distribution.$$ $$\n"
   ]
  },
  {
   "cell_type": "code",
   "execution_count": 4,
   "metadata": {},
   "outputs": [
    {
     "data": {
      "text/plain": [
       "[<matplotlib.lines.Line2D at 0x8fa45c0>]"
      ]
     },
     "execution_count": 4,
     "metadata": {},
     "output_type": "execute_result"
    },
    {
     "data": {
      "image/png": "[encoded data removed]",
      "text/plain": [
       "<Figure size 432x288 with 1 Axes>"
      ]
     },
     "metadata": {},
     "output_type": "display_data"
    }
   ],
   "source": [
    "import numpy as np\n",
    "import matplotlib.pyplot as plt\n",
    "from scipy.stats import lognorm\n",
    "from scipy.stats import norm\n",
    "\n",
    "\n",
    "std=0.8\n",
    "mean=2.1\n",
    "x=np.linspace(0,20,10000)\n",
    "dist=lognorm([std],loc=mean)\n",
    "plt.plot(x,dist.pdf(x))\n",
    "plt.plot(x,dist.cdf(x))\n"
   ]
  },
  {
   "cell_type": "markdown",
   "metadata": {},
   "source": [
    "(a) $ P_{pdf}(3<X<6)=F_{cdf}(6)-F_{cdf}(3)$. demonstrating in Python: $$ $$\n"
   ]
  },
  {
   "cell_type": "code",
   "execution_count": 10,
   "metadata": {},
   "outputs": [
    {
     "name": "stdout",
     "output_type": "stream",
     "text": [
      "0.2446740482064489\n"
     ]
    }
   ],
   "source": [
    "p3=norm.cdf(np.log(3), loc=mean, scale=std)\n",
    "p6=norm.cdf(np.log(6), loc=mean, scale=std) \n",
    "p=p6-p3\n",
    "print(p)"
   ]
  },
  {
   "cell_type": "markdown",
   "metadata": {},
   "source": [
    "Thus, 24.46% of air samples have concentration between 3 and 6. $$ $$\n",
    "$$ $$\n",
    "(b) $ P_{pdf}(X<10)=F_{cdf}(10)$ demonstrating in Python: $$ $$\n"
   ]
  },
  {
   "cell_type": "code",
   "execution_count": 11,
   "metadata": {},
   "outputs": [
    {
     "name": "stdout",
     "output_type": "stream",
     "text": [
      "0.5999552852599946\n"
     ]
    }
   ],
   "source": [
    "p10=norm.cdf(np.log(10), loc=mean, scale=std)\n",
    "print(p10)"
   ]
  },
  {
   "cell_type": "markdown",
   "metadata": {},
   "source": [
    "Thus, 59.99% of samples are not exceed 10. $$ $$\n",
    "$$ $$\n",
    "(c) Use iteration method to find the interval:"
   ]
  },
  {
   "cell_type": "code",
   "execution_count": 12,
   "metadata": {},
   "outputs": [
    {
     "name": "stdout",
     "output_type": "stream",
     "text": [
      "(1.7023826223346874, 39.17235183561141)\n"
     ]
    }
   ],
   "source": [
    "la,lb=norm.interval(0.95, loc=mean, scale=std) \n",
    "a=np.exp(la) \n",
    "b=np.exp(lb) \n",
    "print((a,b))\n"
   ]
  }
 ],
 "metadata": {
  "kernelspec": {
   "display_name": "Python 3",
   "language": "python",
   "name": "python3"
  },
  "language_info": {
   "codemirror_mode": {
    "name": "ipython",
    "version": 3
   },
   "file_extension": ".py",
   "mimetype": "text/x-python",
   "name": "python",
   "nbconvert_exporter": "python",
   "pygments_lexer": "ipython3",
   "version": "3.6.5"
  }
 },
 "nbformat": 4,
 "nbformat_minor": 1
}

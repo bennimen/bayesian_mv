{
 "cells": [
  {
   "cell_type": "markdown",
   "metadata": {},
   "source": [
    "# Measuring agreement and Model evaluation"
   ]
  },
  {
   "cell_type": "markdown",
   "metadata": {},
   "source": [
    "## Problem:\n",
    "\n",
    "Consider the Grubbs model:\n",
    "\n",
    "(a) Show that the method of the moments provides the following estimators of its paramters: <br>\n",
    "\n",
    "   $$\n",
    "    \\left( \\begin{array}{cccc}\n",
    "    \\mu_b \\\\\n",
    "    \\beta_0+\\mu_b \\end{array} \\right) =\n",
    "    \\left( \\begin{array}{cccc}\n",
    "    \\bar{Y}_{.1} \\\\\n",
    "    \\bar{Y}_{.2} \\end{array} \\right)\n",
    "   $$<br>\n",
    "   $$\n",
    "    \\left( \\begin{array}{cccc}\n",
    "    \\sigma_b^2+\\sigma_{e1}^2 & \\sigma_b^2 \\\\\n",
    "    \\sigma_b^2 & \\sigma_b^2+\\sigma_{e2}^2 \\end{array} \\right) =\n",
    "    \\left( \\begin{array}{cccc}\n",
    "    {S_1}^2 & S_{12} \\\\\n",
    "    S_{12} & {S_2}^2 \\end{array} \\right)\n",
    "   $$ \n",
    "   \n",
    "   <br>\n",
    "   \n",
    "   Therefore, we will have:\n",
    "   $$ \\mu_b=\\bar{Y}_{.1} $$ <br>\n",
    "   $$ \\beta_0+\\mu_b=\\bar{Y}_{.2} $$ <br>\n",
    "   $$ \\sigma_b^2+\\sigma_{e1}^2={S_1}^2 $$ <br>\n",
    "   $$ \\sigma_b^2+\\sigma_{e2}^2={S_2}^2 $$ <br>\n",
    "   $$ \\sigma_b^2=S_{12} $$ <br>\n",
    "   \n",
    "   So the following estimators of its parameters: <br>\n",
    "   $ \\hat{\\mu}_b=\\bar{Y}_{.1}$, $\\hat{\\beta}_0=\\bar{Y}_{.2}-\\bar{Y}_{.1}$, ${\\hat{\\sigma}}_b^2=S_{12}$, ${\\hat{\\sigma}}_{e1}^2=S_1^2-S_{12}$, ${\\hat{\\sigma}}_{e2}^2=S_2^2-S_{12}$."
   ]
  },
  {
   "cell_type": "markdown",
   "metadata": {},
   "source": [
    "(b) When the error variance estimators are positive, we have:\n",
    "\n",
    "$${\\hat{\\sigma}}_{e1}^2=S_1^2-S_{12}>0$$\n",
    "\n",
    "$${\\hat{\\sigma}}_{e2}^2=S_2^2-S_{12}>0$$\n",
    "\n",
    "and apply to the definitions:\n",
    "\n",
    "$${\\hat{\\sigma}}_{e1}^2=S_1^2-S_{12}=\\frac{1}{n-1}\\sum_{i=1}^{n}(Y_{i1}-\\bar{Y}_{.1})^2-\\frac{1}{n-1}\\sum_{i=1}^{n}{(Y_{i1}-\\bar{Y}_{.1})(Y_{i2}-\\bar{Y}_{.2})}>0$$\n",
    "\n",
    "$${\\hat{\\sigma}}_{e2}^2=S_2^2-S_{12}=\\frac{1}{n-1}\\sum_{i=2}^{n}(Y_{i2}-\\bar{Y}_{.2})^2-\\frac{1}{n-1}\\sum_{i=1}^{n}{(Y_{i1}-\\bar{Y}_{.1})(Y_{i2}-\\bar{Y}_{.2})}>0$$\n",
    "\n",
    "which means the auto-covariance between the $S_1$ should be larger than the covariance between these two methods $S_{12}$."
   ]
  },
  {
   "cell_type": "markdown",
   "metadata": {},
   "source": [
    "## Problem:"
   ]
  },
  {
   "cell_type": "markdown",
   "metadata": {},
   "source": [
    "IPI from 52 kidneys using CT (method 1) and urography (method 2).\n",
    "\n",
    "(a) Scatterplot and a Bland-Altman plot:"
   ]
  },
  {
   "cell_type": "code",
   "execution_count": 46,
   "metadata": {},
   "outputs": [],
   "source": [
    "A=np.array([97,77,74,59,79,85,78,78,68,96,74,64,76,60,78,71,67,103,95,78,70,80,78,102,102,77,45,60,50,94,91,66,63,65,58,75,105,65,80,90,58,75,83,78,85,65,90,76,100,65,40,53])\n",
    "B=np.array([100,58,95,55,79,95,60,88,68,94,60,64,88,57,66,67,76,95,85,105,80,85,82,102,100,75,40,70,63,103,95,80,72,68,48,70,90,60,80,96,54,80,88,70,90,79,100,85,108,53,58,49])"
   ]
  },
  {
   "cell_type": "code",
   "execution_count": 47,
   "metadata": {},
   "outputs": [
    {
     "data": {
      "image/png": "[encoded data removed]",
      "text/plain": [
       "<matplotlib.figure.Figure at 0x1c1d90a470>"
      ]
     },
     "metadata": {},
     "output_type": "display_data"
    },
    {
     "data": {
      "image/png": "[encoded data removed]",
      "text/plain": [
       "<matplotlib.figure.Figure at 0x1c1d93df98>"
      ]
     },
     "metadata": {},
     "output_type": "display_data"
    }
   ],
   "source": [
    "import matplotlib.pyplot as plt\n",
    "\n",
    "plt.title('Scatterplot for each method')\n",
    "plt.scatter(A,B)\n",
    "plt.show()\n",
    "\n",
    "def bland_altman_plot(data1, data2, *args, **kwargs):\n",
    "    data1 = np.asarray(data1)\n",
    "    data2 = np.asarray(data2)\n",
    "    mean = np.mean([data1, data2],axis=0)\n",
    "    diff = data1 - data2\n",
    "    md = np.mean(diff)\n",
    "    sd = np.std(diff,axis=0)\n",
    "    \n",
    "    plt.scatter(mean, diff, *args, **kwargs)\n",
    "    plt.axhline(md, color='gray', linestyle='--')\n",
    "    plt.axhline(md+1.96*sd, color='gray', linestyle='--')\n",
    "    plt.axhline(md-1.96*sd, color='gray', linestyle='--')\n",
    "\n",
    "bland_altman_plot(A, B)\n",
    "plt.title('Bland-Altman Plot of two methods')\n",
    "plt.show()"
   ]
  },
  {
   "cell_type": "markdown",
   "metadata": {},
   "source": [
    "(b) Most of the measurements are located between $\\mu-1.96\\sigma$ and $\\mu+1.96\\sigma$, and randomly distributed in both side of the mean value, which indicates that these two methods are agree with each other.\n",
    "\n",
    "(c) The are nearly one samples respectively lies above $\\mu+1.96\\sigma$, and below $\\mu-1.96\\sigma$, and it have large difference between each method, which can be considered as an evidence of heteroscedasticity or outlier."
   ]
  },
  {
   "cell_type": "markdown",
   "metadata": {},
   "source": [
    "## Problem:"
   ]
  },
  {
   "cell_type": "code",
   "execution_count": 48,
   "metadata": {},
   "outputs": [
    {
     "name": "stderr",
     "output_type": "stream",
     "text": [
      "/anaconda3/lib/python3.6/site-packages/statsmodels/base/model.py:496: ConvergenceWarning: Maximum Likelihood optimization failed to converge. Check mle_retvals\n",
      "  \"Check mle_retvals\", ConvergenceWarning)\n",
      "/anaconda3/lib/python3.6/site-packages/statsmodels/base/model.py:496: ConvergenceWarning: Maximum Likelihood optimization failed to converge. Check mle_retvals\n",
      "  \"Check mle_retvals\", ConvergenceWarning)\n",
      "/anaconda3/lib/python3.6/site-packages/statsmodels/base/model.py:496: ConvergenceWarning: Maximum Likelihood optimization failed to converge. Check mle_retvals\n",
      "  \"Check mle_retvals\", ConvergenceWarning)\n",
      "/anaconda3/lib/python3.6/site-packages/statsmodels/base/model.py:496: ConvergenceWarning: Maximum Likelihood optimization failed to converge. Check mle_retvals\n",
      "  \"Check mle_retvals\", ConvergenceWarning)\n",
      "/anaconda3/lib/python3.6/site-packages/statsmodels/base/model.py:496: ConvergenceWarning: Maximum Likelihood optimization failed to converge. Check mle_retvals\n",
      "  \"Check mle_retvals\", ConvergenceWarning)\n",
      "/anaconda3/lib/python3.6/site-packages/statsmodels/regression/mixed_linear_model.py:2001: ConvergenceWarning: Gradient optimization failed.\n",
      "  warnings.warn(msg, ConvergenceWarning)\n",
      "/anaconda3/lib/python3.6/site-packages/statsmodels/regression/mixed_linear_model.py:2039: ConvergenceWarning: The Hessian matrix at the estimated parameter values is not positive definite.\n",
      "  warnings.warn(msg, ConvergenceWarning)\n",
      "/anaconda3/lib/python3.6/site-packages/statsmodels/base/model.py:1029: RuntimeWarning: invalid value encountered in sqrt\n",
      "  return np.sqrt(np.diag(self.cov_params()))\n"
     ]
    },
    {
     "name": "stdout",
     "output_type": "stream",
     "text": [
      "               Mixed Linear Model Regression Results\n",
      "====================================================================\n",
      "Model:                 MixedLM     Dependent Variable:     values   \n",
      "No. Observations:      198         Method:                 REML     \n",
      "No. Groups:            2           Scale:                  13.2831  \n",
      "Min. group size:       99          Likelihood:             -548.6755\n",
      "Max. group size:       99          Converged:              No       \n",
      "Mean group size:       99.0                                         \n",
      "--------------------------------------------------------------------\n",
      "                          Coef.  Std.Err.   z    P>|z| [0.025 0.975]\n",
      "--------------------------------------------------------------------\n",
      "Intercept                 69.864    5.877 11.888 0.000 58.345 81.383\n",
      "subject                    0.490    1.862  0.263 0.792 -3.159  4.139\n",
      "Intercept RE              68.549                                    \n",
      "Intercept RE x subject RE  0.625                                    \n",
      "subject RE                 6.931                                    \n",
      "====================================================================\n",
      "\n"
     ]
    },
    {
     "data": {
      "image/png": "[encoded data removed]",
      "text/plain": [
       "<matplotlib.figure.Figure at 0x1c1d8eca20>"
      ]
     },
     "metadata": {},
     "output_type": "display_data"
    },
    {
     "data": {
      "image/png": "[encoded data removed]",
      "text/plain": [
       "<matplotlib.figure.Figure at 0x1c1daa0240>"
      ]
     },
     "metadata": {},
     "output_type": "display_data"
    }
   ],
   "source": [
    "import pandas as pd\n",
    "import statsmodels.api as sm\n",
    "import statsmodels.formula.api as smf\n",
    "\n",
    "dataA=pd.DataFrame(columns=['subject','values','id'])\n",
    "dataB=pd.DataFrame(columns=['subject','values','id'])\n",
    "\n",
    "A=np.array([    \n",
    "56.9,63.2,65.5,73.6,74.1,77.1,77.3,77.5,77.8,78.9,79.5,80.8,81.2,81.9,82.2,83.1,84.4,84.9,86,86.3,86.3,86.6,86.6,86.6,\n",
    "87.1,87.5,87.8,88.6,89.3,89.6,90.3,91.1,92.1,93.5,94.5,94.6,95,95.2,95.3,95.6,95.9,96.4,97.2,97.5,97.9,98.2,98.5,98.8,\n",
    "98.9,99,99.3,99.3,99.9,100.1,101,101,101.5,101.5,101.5,101.8,101.8,102.8,102.9,103.2,103.8,104.4,104.8,105.1,105.5,\n",
    "105.7,106.1,106.8,107.2,107.4,107.5,107.5,108,108.2,108.6,109.1,110.1,111.2,111.7,111.7,112,113.1,116,116.7,118.8,\n",
    "119.7,120.7,122.8,124.7,126.4,127.6,128.2,129.6,130.4,133.2])\n",
    "\n",
    "B=np.array([52.9,59.2,63,66.2,64.8,69,67.1,70.1,69.2,73.8,71.8,73.3,73.1,74.7,74.1,74.1,76,75.4,74.6,79.2,77.8,80.8,77.6,77.5,78.6,\n",
    "78.7,81.5,79.3,78.9,85.9,80.7,80.6,82.8,86,84.3,87.6,84,85.9,84.4,85.2,85.2,89.2,87.8,88,88.7,91.2,91.8,92.5,88,93.5,\n",
    "89,89.4,89.2,91.3,90.4,91.2,91.4,93,91.2,92,91.8,96.8,92.8,94,93.5,95.8,97.1,97.3,95.1,95.8,95.5,95.9,95.4,97.3,97.7,\n",
    "93,97.6,96.1,96.2,99.5,99.8,105.3,103.6,100.2,100,98.8,110,103.5,109.4,112.1,111.3,108.6,112.4,113.8,115.6,118.1,116.8,\n",
    "121.6,115.8])\n",
    "\n",
    "dataA['subject']=np.arange(0,99,1)\n",
    "dataA['values']=A\n",
    "dataA['id']=np.ones(99)\n",
    "\n",
    "\n",
    "dataB['subject']=np.arange(0,99,1)\n",
    "dataB['values']=B\n",
    "dataB['id']=np.ones(99)*2\n",
    "\n",
    "data=pd.concat([dataA,dataB])\n",
    "data=data.reset_index(drop=True)\n",
    "\n",
    "md=smf.mixedlm('values~subject', data, groups=data['id'], re_formula='~subject')\n",
    "mdf=md.fit()\n",
    "\n",
    "print(mdf.summary())\n",
    "\n",
    "plt.title('Scatterplot for each method')\n",
    "plt.scatter(A,B)\n",
    "plt.show()\n",
    "\n",
    "\n",
    "bland_altman_plot(A, B)\n",
    "plt.title('Bland-Altman Plot of two methods')\n",
    "plt.show()"
   ]
  },
  {
   "cell_type": "markdown",
   "metadata": {},
   "source": [
    "## Problem:\n",
    "Potatoes measured by two sclaes, A and B.<br>\n",
    "(a) Compute the Grubbs estimators for these data."
   ]
  },
  {
   "cell_type": "code",
   "execution_count": 49,
   "metadata": {},
   "outputs": [
    {
     "name": "stdout",
     "output_type": "stream",
     "text": [
      "mu_b: 1211.3333333333333\n",
      "beta_0: -17.0\n",
      "sigma_b: 586217.0238095239\n",
      "sigma_e_1: -25305.468253968284\n",
      "sigma_e_2: -51974.13492063503\n"
     ]
    }
   ],
   "source": [
    "import numpy as np\n",
    "import matplotlib as plt\n",
    "\n",
    "A=np.array([135, 940, 1075, 925, 2330, 2870, 1490, 2110, 650, 1380, 970, 1000, 1640, 345, 310])\n",
    "B=np.array([165, 910, 1060, 925, 2290, 2850, 1425, 2050, 630, 1370, 1000, 1000, 1575, 345, 320])\n",
    "\n",
    "A_mean = A.mean()\n",
    "B_mean = B.mean()\n",
    "S_A = np.std(A)\n",
    "S_B = np.std(B)\n",
    "S_AB = np.sum((A-A_mean)*(B-B_mean))/14\n",
    "\n",
    "mu_b = A_mean\n",
    "beta_0 = B_mean-A_mean\n",
    "sigma_b = S_AB\n",
    "sigma_e_1 = S_A**2-S_AB\n",
    "sigma_e_2 = S_B**2-S_AB\n",
    "\n",
    "print(\"mu_b:\", mu_b)\n",
    "print(\"beta_0:\", beta_0)\n",
    "print(\"sigma_b:\", sigma_b)\n",
    "print(\"sigma_e_1:\", sigma_e_1)\n",
    "print(\"sigma_e_2:\", sigma_e_2)"
   ]
  },
  {
   "cell_type": "markdown",
   "metadata": {},
   "source": [
    "Therefore, the estimators from Grubbs are collected:\n",
    "$ \\hat{\\mu}_b=1211.3$, $\\hat{\\beta}_0=-17$, ${\\hat{\\sigma}}_b^2=586217$, ${\\hat{\\sigma}}_{e1}^2=-25305$, and ${\\hat{\\sigma}}_{e2}^2=-51974$."
   ]
  },
  {
   "cell_type": "markdown",
   "metadata": {},
   "source": [
    "(b) Fit mixed-effects model using ML method."
   ]
  },
  {
   "cell_type": "code",
   "execution_count": 50,
   "metadata": {},
   "outputs": [
    {
     "name": "stdout",
     "output_type": "stream",
     "text": [
      "    packet  scale   id\n",
      "0        1    135  1.0\n",
      "1        2    940  1.0\n",
      "2        3   1075  1.0\n",
      "3        4    925  1.0\n",
      "4        5   2330  1.0\n",
      "5        6   2870  1.0\n",
      "6        7   1490  1.0\n",
      "7        8   2110  1.0\n",
      "8        9    650  1.0\n",
      "9       10   1380  1.0\n",
      "10      11    970  1.0\n",
      "11      12   1000  1.0\n",
      "12      13   1640  1.0\n",
      "13      14    345  1.0\n",
      "14      15    310  1.0\n",
      "15       1    165  2.0\n",
      "16       2    910  2.0\n",
      "17       3   1060  2.0\n",
      "18       4    925  2.0\n",
      "19       5   2290  2.0\n",
      "20       6   2850  2.0\n",
      "21       7   1425  2.0\n",
      "22       8   2050  2.0\n",
      "23       9    630  2.0\n",
      "24      10   1370  2.0\n",
      "25      11   1000  2.0\n",
      "26      12   1000  2.0\n",
      "27      13   1575  2.0\n",
      "28      14    345  2.0\n",
      "29      15    320  2.0\n",
      "                   Mixed Linear Model Regression Results\n",
      "============================================================================\n",
      "Model:                   MixedLM       Dependent Variable:       scale      \n",
      "No. Observations:        30            Method:                   REML       \n",
      "No. Groups:              2             Scale:                    573880.0614\n",
      "Min. group size:         15            Likelihood:               -234.5395  \n",
      "Max. group size:         15            Converged:                No         \n",
      "Mean group size:         15.0                                               \n",
      "----------------------------------------------------------------------------\n",
      "                           Coef.    Std.Err.   z    P>|z|   [0.025   0.975] \n",
      "----------------------------------------------------------------------------\n",
      "Intercept                  1405.333  609.636  2.305 0.021   210.469 2600.197\n",
      "packet                      -25.313  536.624 -0.047 0.962 -1077.075 1026.450\n",
      "Intercept RE             573880.061                                         \n",
      "Intercept RE x packet RE      0.000                                         \n",
      "packet RE                573880.061                                         \n",
      "============================================================================\n",
      "\n"
     ]
    },
    {
     "name": "stderr",
     "output_type": "stream",
     "text": [
      "/anaconda3/lib/python3.6/site-packages/statsmodels/base/model.py:496: ConvergenceWarning: Maximum Likelihood optimization failed to converge. Check mle_retvals\n",
      "  \"Check mle_retvals\", ConvergenceWarning)\n",
      "/anaconda3/lib/python3.6/site-packages/statsmodels/base/model.py:496: ConvergenceWarning: Maximum Likelihood optimization failed to converge. Check mle_retvals\n",
      "  \"Check mle_retvals\", ConvergenceWarning)\n",
      "/anaconda3/lib/python3.6/site-packages/statsmodels/base/model.py:496: ConvergenceWarning: Maximum Likelihood optimization failed to converge. Check mle_retvals\n",
      "  \"Check mle_retvals\", ConvergenceWarning)\n",
      "/anaconda3/lib/python3.6/site-packages/statsmodels/base/model.py:496: ConvergenceWarning: Maximum Likelihood optimization failed to converge. Check mle_retvals\n",
      "  \"Check mle_retvals\", ConvergenceWarning)\n",
      "/anaconda3/lib/python3.6/site-packages/statsmodels/base/model.py:496: ConvergenceWarning: Maximum Likelihood optimization failed to converge. Check mle_retvals\n",
      "  \"Check mle_retvals\", ConvergenceWarning)\n",
      "/anaconda3/lib/python3.6/site-packages/statsmodels/regression/mixed_linear_model.py:2001: ConvergenceWarning: Gradient optimization failed.\n",
      "  warnings.warn(msg, ConvergenceWarning)\n",
      "/anaconda3/lib/python3.6/site-packages/statsmodels/regression/mixed_linear_model.py:2039: ConvergenceWarning: The Hessian matrix at the estimated parameter values is not positive definite.\n",
      "  warnings.warn(msg, ConvergenceWarning)\n",
      "/anaconda3/lib/python3.6/site-packages/statsmodels/base/model.py:1029: RuntimeWarning: invalid value encountered in sqrt\n",
      "  return np.sqrt(np.diag(self.cov_params()))\n"
     ]
    }
   ],
   "source": [
    "import pandas as pd\n",
    "import statsmodels.api as sm\n",
    "import statsmodels.formula.api as smf\n",
    "\n",
    "dataA=pd.DataFrame(columns=['packet','scale','id'])\n",
    "dataB=pd.DataFrame(columns=['packet','scale','id'])\n",
    "\n",
    "dataA['packet']=[1,2,3,4,5,6,7,8,9,10,11,12,13,14,15]\n",
    "dataA['scale']=A\n",
    "dataA['id']=np.ones(15)\n",
    "\n",
    "\n",
    "dataB['packet']=[1,2,3,4,5,6,7,8,9,10,11,12,13,14,15]\n",
    "dataB['scale']=B\n",
    "dataB['id']=np.ones(15)*2\n",
    "\n",
    "data=pd.concat([dataA,dataB])\n",
    "data=data.reset_index(drop=True)\n",
    "print(data)\n",
    "\n",
    "md=smf.mixedlm('scale ~ packet', data, groups=data['id'], re_formula='~ packet')\n",
    "mdf=md.fit()\n",
    "\n",
    "print(mdf.summary())"
   ]
  },
  {
   "cell_type": "markdown",
   "metadata": {},
   "source": [
    "where the error variance estimates are ${\\hat{\\sigma}}_{e1}^2=609.6^2=379881$, and ${\\hat{\\sigma}}_{e2}^2=536.6^2=287939.6$."
   ]
  },
  {
   "cell_type": "markdown",
   "metadata": {},
   "source": [
    "(c) The error variance estimation is ${\\hat{\\sigma}}_{e1}^2=-25305$, and ${\\hat{\\sigma}}_{e2}^2=-51974$ for Grubbs estimation, and ${\\hat{\\sigma}}_{e1}^2=609.6^2=379881$, and ${\\hat{\\sigma}}_{e2}^2=536.6^2=287939.6$ for mixed-effects model using ML. The mixed-effects model can be fit by the ML method, and this estimates are used to perform inference on measures of agreements. The Grubbs estimates, lead to a negative estimates of error variance."
   ]
  },
  {
   "cell_type": "code",
   "execution_count": null,
   "metadata": {},
   "outputs": [],
   "source": []
  }
 ],
 "metadata": {
  "kernelspec": {
   "display_name": "Python 3",
   "language": "python",
   "name": "python3"
  },
  "language_info": {
   "codemirror_mode": {
    "name": "ipython",
    "version": 3
   },
   "file_extension": ".py",
   "mimetype": "text/x-python",
   "name": "python",
   "nbconvert_exporter": "python",
   "pygments_lexer": "ipython3",
   "version": "3.6.5"
  }
 },
 "nbformat": 4,
 "nbformat_minor": 2
}

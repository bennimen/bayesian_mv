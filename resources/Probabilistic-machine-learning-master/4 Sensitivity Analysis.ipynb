{
 "cells": [
  {
   "cell_type": "markdown",
   "metadata": {},
   "source": [
    "# Sensitivity Analysis"
   ]
  },
  {
   "cell_type": "markdown",
   "metadata": {},
   "source": [
    "## Problem:\n",
    "\n",
    "\n",
    "Two input factors are normally distributed in the model \n",
    " $Y = X_{1}+ X_{2}$\n",
    "with parameters $\\mu_{1}=1$, $\\mu_{2}=2$, $\\sigma_{1}=3$ , $\\sigma_{2}=2$.\n",
    "\n",
    "Calculate the first and second-order indices for the inputs and comment on the level of additivity of the model.\n",
    "\n",
    "\n",
    "\n",
    "\n"
   ]
  },
  {
   "cell_type": "code",
   "execution_count": 13,
   "metadata": {},
   "outputs": [
    {
     "name": "stdout",
     "output_type": "stream",
     "text": [
      "Parameter S1 S1_conf ST ST_conf\n",
      "x1 0.692537 0.019074 0.692011 0.015565\n",
      "x2 0.308073 0.013364 0.307612 0.008244\n",
      "\n",
      "Parameter_1 Parameter_2 S2 S2_conf\n",
      "x1 x2 -0.001053 0.031384\n"
     ]
    }
   ],
   "source": [
    "from SALib.sample import saltelli\n",
    "from SALib.analyze import sobol\n",
    "from SALib.test_functions import Ishigami\n",
    "import numpy as np\n",
    "import matplotlib as plt\n",
    "\n",
    "problem={\n",
    "    'num_vars': 2,\n",
    "    'names':['x1','x2'],\n",
    "    'bounds':[[-2,4],\n",
    "              [0,4]]\n",
    "}\n",
    "\n",
    "para_values=saltelli.sample(problem,10000,calc_second_order=True)\n",
    "\n",
    "Y=para_values[:,0]+para_values[:,1]\n",
    "\n",
    "Si=sobol.analyze(problem,Y,print_to_console=True)\n",
    "\n"
   ]
  },
  {
   "cell_type": "markdown",
   "metadata": {},
   "source": [
    "From the results:\n",
    "\n",
    "The first-order indices for $X1$ is 0.6925, and for $X2$ is 0.3081. The second-order indices between $X1$ and $X2$ is -0.0011. For the additivity of the model, the random variable of $X1$ and $X2$ are indendent with each other, but the term $X1$ contributes more in the total variance, because it has larger variance compared to the $X2$ term."
   ]
  },
  {
   "cell_type": "markdown",
   "metadata": {},
   "source": [
    "## Problem:\n",
    "\n",
    "A model has eight input factors, but for computational cost's reasons we reduce the number of factors to five.\n",
    "The model is \n",
    " $Y = \\sum_{i=1}^{8} X_{i}$\n",
    " \n",
    " where $X_{i}$ is normally distributed as follows :\n",
    " \n",
    "$X_{i} \\sim N(0,1)$\n",
    "$X_{i} \\sim N(2,2)$\n",
    "$X_{i} \\sim N(1,3)$\n",
    "$X_{i} \\sim N(1,5)$\n",
    "$X_{i} \\sim N(3,1)$\n",
    "$X_{i} \\sim N(4,1)$\n",
    "$X_{i} \\sim N(1,2)$\n",
    "$X_{i} \\sim N(5,5)$\n",
    "\n",
    "(1) Calculate the first-order sensitivity indices (based on Sobol sensitivity analysis) and identify the three least important factors, in order to exclude them from the model.\n",
    "\n",
    "(2) Recalculate the first orders for the remaining five factors and find out which are the most influential: if we decide to fix them at a given value, in their range of variation, by what amount will the variance of the output be reduced? \n",
    "\n",
    "    "
   ]
  },
  {
   "cell_type": "code",
   "execution_count": 14,
   "metadata": {},
   "outputs": [
    {
     "name": "stdout",
     "output_type": "stream",
     "text": [
      "Parameter S1 S1_conf ST ST_conf\n",
      "x1 0.013990 0.003149 0.014265 0.000429\n",
      "x2 0.056995 0.007491 0.057108 0.001722\n",
      "x3 0.128764 0.009923 0.128526 0.003825\n",
      "x4 0.358103 0.017183 0.357008 0.010251\n",
      "x5 0.014099 0.003472 0.014285 0.000342\n",
      "x6 0.014140 0.003157 0.014283 0.000397\n",
      "x7 0.057359 0.006441 0.057123 0.001546\n",
      "x8 0.356662 0.013457 0.357006 0.009516\n",
      "\n",
      "Parameter_1 Parameter_2 S2 S2_conf\n",
      "x1 x2 0.000402 0.004848\n",
      "x1 x3 0.000457 0.005046\n",
      "x1 x4 0.000588 0.005212\n",
      "x1 x5 0.000373 0.004692\n",
      "x1 x6 0.000369 0.004707\n",
      "x1 x7 0.000391 0.004934\n",
      "x1 x8 0.000295 0.005218\n",
      "x2 x3 -0.000012 0.009920\n",
      "x2 x4 -0.000017 0.011627\n",
      "x2 x5 0.000024 0.009364\n",
      "x2 x6 0.000005 0.009447\n",
      "x2 x7 0.000101 0.009976\n",
      "x2 x8 0.000068 0.011483\n",
      "x3 x4 -0.000879 0.015005\n",
      "x3 x5 -0.000595 0.012505\n",
      "x3 x6 -0.000518 0.012563\n",
      "x3 x7 -0.000597 0.012716\n",
      "x3 x8 -0.000318 0.015245\n",
      "x4 x5 -0.001019 0.023483\n",
      "x4 x6 -0.001202 0.023466\n",
      "x4 x7 -0.001389 0.025284\n",
      "x4 x8 -0.002074 0.026356\n",
      "x5 x6 0.000063 0.005281\n",
      "x5 x7 0.000147 0.005306\n",
      "x5 x8 0.000098 0.005776\n",
      "x6 x7 0.000172 0.005014\n",
      "x6 x8 0.000223 0.005331\n",
      "x7 x8 -0.000470 0.010339\n"
     ]
    }
   ],
   "source": [
    "problem={\n",
    "    'num_vars': 8,\n",
    "    'names':['x1','x2','x3','x4','x5','x6','x7','x8'],\n",
    "    'bounds':[[-1, 1],\n",
    "              [ 0, 4],\n",
    "              [-2, 4],\n",
    "              [-4, 6],\n",
    "              [ 2, 4],\n",
    "              [ 3, 5],\n",
    "              [-1, 3],\n",
    "              [ 0,10],\n",
    "             ]\n",
    "}\n",
    "\n",
    "para_values=saltelli.sample(problem,10000,calc_second_order=True)\n",
    "\n",
    "Y=para_values[:,0]+para_values[:,1]+para_values[:,2]+para_values[:,3]+para_values[:,4]+para_values[:,5]+para_values[:,6]+para_values[:,7]\n",
    "\n",
    "Si=sobol.analyze(problem,Y,print_to_console=True)\n",
    "\n"
   ]
  },
  {
   "cell_type": "markdown",
   "metadata": {
    "collapsed": true
   },
   "source": [
    "From the first-order indices, the least important term can be: $X1$, $X5$, and $X6$. They will be removed for next step."
   ]
  },
  {
   "cell_type": "code",
   "execution_count": 15,
   "metadata": {},
   "outputs": [
    {
     "name": "stdout",
     "output_type": "stream",
     "text": [
      "Parameter S1 S1_conf ST ST_conf\n",
      "x2 0.059590 0.007232 0.059642 0.001708\n",
      "x3 0.134605 0.009927 0.134556 0.004029\n",
      "x4 0.372975 0.014099 0.373180 0.010049\n",
      "x7 0.059435 0.005942 0.059724 0.001801\n",
      "x8 0.373117 0.015370 0.373248 0.011617\n",
      "\n",
      "Parameter_1 Parameter_2 S2 S2_conf\n",
      "x2 x3 0.000077 0.011047\n",
      "x2 x4 0.000056 0.011701\n",
      "x2 x7 0.000154 0.011331\n",
      "x2 x8 0.000084 0.012718\n",
      "x3 x4 -0.000219 0.018001\n",
      "x3 x7 0.000025 0.015005\n",
      "x3 x8 -0.000061 0.016669\n",
      "x4 x7 0.000430 0.019566\n",
      "x4 x8 0.000384 0.023138\n",
      "x7 x8 0.000210 0.010965\n"
     ]
    }
   ],
   "source": [
    "problem={\n",
    "    'num_vars': 5,\n",
    "    'names':['x2','x3','x4','x7','x8'],\n",
    "    'bounds':[[ 0, 4],\n",
    "              [-2, 4],\n",
    "              [-4, 6],\n",
    "              [-1, 3],\n",
    "              [ 0,10],\n",
    "             ]\n",
    "}\n",
    "\n",
    "para_values=saltelli.sample(problem,10000,calc_second_order=True)\n",
    "\n",
    "Y=para_values[:,0]+para_values[:,1]+para_values[:,2]+para_values[:,3]+para_values[:,4]\n",
    "\n",
    "Si=sobol.analyze(problem,Y,print_to_console=True)\n",
    "\n"
   ]
  },
  {
   "cell_type": "markdown",
   "metadata": {},
   "source": [
    "From the remaining terms, the most influencial term can be $X8$.  If we want to fix them at a given value, in their range of variation, it is better to reduce the term with larger variance to the majority slope, which can be 5."
   ]
  },
  {
   "cell_type": "markdown",
   "metadata": {},
   "source": [
    "\n",
    "    "
   ]
  }
 ],
 "metadata": {
  "anaconda-cloud": {},
  "kernelspec": {
   "display_name": "Python 3",
   "language": "python",
   "name": "python3"
  },
  "language_info": {
   "codemirror_mode": {
    "name": "ipython",
    "version": 3
   },
   "file_extension": ".py",
   "mimetype": "text/x-python",
   "name": "python",
   "nbconvert_exporter": "python",
   "pygments_lexer": "ipython3",
   "version": "3.6.5"
  }
 },
 "nbformat": 4,
 "nbformat_minor": 1
}

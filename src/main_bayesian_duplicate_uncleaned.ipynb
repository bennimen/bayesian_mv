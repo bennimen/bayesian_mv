{
 "cells": [
  {
   "cell_type": "code",
   "execution_count": null,
   "metadata": {
    "lines_to_next_cell": 1
   },
   "outputs": [],
   "source": [
    "from scipy.stats import beta\n",
    "import numpy as np\n",
    "#from calc_prob import calc_prob_between\n",
    "from math import lgamma"
   ]
  },
  {
   "cell_type": "code",
   "execution_count": null,
   "metadata": {
    "lines_to_next_cell": 1
   },
   "outputs": [],
   "source": [
    "def g0(a, b, c):    \n",
    "    return np.exp(lgamma(a + b) + lgamma(a + c) - (lgamma(a + b + c) + lgamma(a)))"
   ]
  },
  {
   "cell_type": "code",
   "execution_count": null,
   "metadata": {},
   "outputs": [],
   "source": [
    "def h(a, b, c, d):\n",
    "    num = lgamma(a + c) + lgamma(b + d) + lgamma(a + b) + lgamma(c + d)\n",
    "    den = lgamma(a) + lgamma(b) + lgamma(c) + lgamma(d) + lgamma(a + b + c + d)\n",
    "    return np.exp(num - den)"
   ]
  },
  {
   "cell_type": "code",
   "execution_count": null,
   "metadata": {
    "lines_to_next_cell": 1
   },
   "outputs": [],
   "source": [
    "def hiter(a, b, c, d):\n",
    "    while d > 1:\n",
    "        d -= 1\n",
    "        yield h(a, b, c, d) / d"
   ]
  },
  {
   "cell_type": "code",
   "execution_count": null,
   "metadata": {
    "lines_to_next_cell": 1
   },
   "outputs": [],
   "source": [
    "def g(a, b, c, d):\n",
    "    return g0(a, b, c) + sum(hiter(a, b, c, d))"
   ]
  },
  {
   "cell_type": "code",
   "execution_count": null,
   "metadata": {
    "lines_to_next_cell": 1
   },
   "outputs": [],
   "source": [
    "def calc_prob_between(beta1, beta2):\n",
    "    return g(beta1.args[0], beta1.args[1], beta2.args[0], beta2.args[1])"
   ]
  },
  {
   "cell_type": "code",
   "execution_count": null,
   "metadata": {},
   "outputs": [],
   "source": [
    "#This is the known data: imporessions and conversions for the Control and Test set\n",
    "imps_ctrl,convs_ctrl=16500, 30 \n",
    "imps_test, convs_test=17000, 50"
   ]
  },
  {
   "cell_type": "code",
   "execution_count": null,
   "metadata": {},
   "outputs": [],
   "source": [
    "imps_ctrl,convs_ctrl=734, 43\n",
    "imps_test, convs_test=704, 30"
   ]
  },
  {
   "cell_type": "code",
   "execution_count": null,
   "metadata": {},
   "outputs": [],
   "source": [
    "imps_ctrl,convs_ctrl=903, 54\n",
    "imps_test, convs_test=886, 65"
   ]
  },
  {
   "cell_type": "code",
   "execution_count": null,
   "metadata": {},
   "outputs": [],
   "source": [
    "imps_ctrl,convs_ctrl=102659,56\n",
    "imps_test, convs_test=17137, 9"
   ]
  },
  {
   "cell_type": "code",
   "execution_count": null,
   "metadata": {},
   "outputs": [],
   "source": [
    "imps_ctrl,convs_ctrl=815,16\n",
    "imps_test, convs_test=796, 15"
   ]
  },
  {
   "cell_type": "code",
   "execution_count": null,
   "metadata": {},
   "outputs": [],
   "source": [
    "imps_ctrl,convs_ctrl=43824,3\n",
    "imps_test, convs_test=43043,6"
   ]
  },
  {
   "cell_type": "code",
   "execution_count": null,
   "metadata": {},
   "outputs": [],
   "source": [
    "imps_ctrl,convs_ctrl=9280,5\n",
    "imps_test, convs_test=7715,5"
   ]
  },
  {
   "cell_type": "code",
   "execution_count": null,
   "metadata": {},
   "outputs": [],
   "source": [
    "imps_ctrl,convs_ctrl=2079,10\n",
    "imps_test, convs_test=2035,3"
   ]
  },
  {
   "cell_type": "code",
   "execution_count": null,
   "metadata": {},
   "outputs": [],
   "source": [
    "imps_ctrl,convs_ctrl=40254,23\n",
    "imps_test, convs_test=40058,30"
   ]
  },
  {
   "cell_type": "code",
   "execution_count": null,
   "metadata": {},
   "outputs": [],
   "source": [
    "imps_ctrl,convs_ctrl=75251,44\n",
    "imps_test, convs_test=74879,49"
   ]
  },
  {
   "cell_type": "code",
   "execution_count": null,
   "metadata": {},
   "outputs": [],
   "source": [
    "convs_test_og = convs_test"
   ]
  },
  {
   "cell_type": "code",
   "execution_count": null,
   "metadata": {},
   "outputs": [],
   "source": [
    "print('\\n')\n",
    "print('Option A:\\nImpressions: {}\\nConversions: {}\\n'.format(imps_ctrl, convs_ctrl))\n",
    "print('Option A:\\nImpressions: {}\\nConversions: {}\\n'.format(imps_test, convs_test))"
   ]
  },
  {
   "cell_type": "code",
   "execution_count": null,
   "metadata": {},
   "outputs": [],
   "source": [
    "#here we create the Beta functions for the two sets\n",
    "a_C, b_C = convs_ctrl+1, imps_ctrl-convs_ctrl+1\n",
    "beta_C = beta(a_C, b_C)\n",
    "a_T, b_T = convs_test+1, imps_test-convs_test+1\n",
    "beta_T = beta(a_T, b_T)"
   ]
  },
  {
   "cell_type": "code",
   "execution_count": null,
   "metadata": {},
   "outputs": [],
   "source": [
    "#calculating the lift\n",
    "lift=(beta_T.mean()-beta_C.mean())/beta_C.mean()"
   ]
  },
  {
   "cell_type": "code",
   "execution_count": null,
   "metadata": {},
   "outputs": [],
   "source": [
    "#calculating the probability for Test to be better than Control\n",
    "prob=calc_prob_between(beta_T, beta_C)"
   ]
  },
  {
   "cell_type": "code",
   "execution_count": null,
   "metadata": {
    "lines_to_next_cell": 2
   },
   "outputs": [],
   "source": [
    "print (f\"Test option lift Conversion Rates by {lift*100:2.2f}% with {prob*100:2.1f}% probability.\")\n",
    "#output: Test option lift Conversion Rates by 59.68% with 98.2% probability."
   ]
  },
  {
   "cell_type": "code",
   "execution_count": null,
   "metadata": {},
   "outputs": [],
   "source": [
    "while prob*100 < 95:\n",
    "\n",
    "\n",
    "    #imps_ctrl,convs_ctrl=734, 43\n",
    "    #imps_test, convs_test=704, 59\n",
    "    convs_test += 1\n",
    "    #here we create the Beta functions for the two sets\n",
    "    a_C, b_C = convs_ctrl+1, imps_ctrl-convs_ctrl+1\n",
    "    beta_C = beta(a_C, b_C)\n",
    "    a_T, b_T = convs_test+1, imps_test-convs_test+1\n",
    "    beta_T = beta(a_T, b_T)\n",
    "\n",
    "    #calculating the lift\n",
    "    lift=(beta_T.mean()-beta_C.mean())/beta_C.mean()\n",
    "\n",
    "    #calculating the probability for Test to be better than Control\n",
    "    prob=calc_prob_between(beta_T, beta_C)\n",
    "    convs_test += 1"
   ]
  },
  {
   "cell_type": "code",
   "execution_count": null,
   "metadata": {},
   "outputs": [],
   "source": [
    "print('\\nConversions in Option B need for at least 95% probability: {}'.format(convs_test))\n",
    "print('Additional: {}\\n'.format(convs_test-convs_test_og))\n",
    "print (f\"SIMULATION: lift Conversion Rates by {lift*100:2.2f}% with {prob*100:2.1f}% probability.\")\n",
    "#output: Test option lift Conversion Rates by 59.68% with 98.2% probability."
   ]
  },
  {
   "cell_type": "code",
   "execution_count": null,
   "metadata": {},
   "outputs": [],
   "source": []
  },
  {
   "cell_type": "code",
   "execution_count": null,
   "metadata": {},
   "outputs": [],
   "source": []
  },
  {
   "cell_type": "code",
   "execution_count": null,
   "metadata": {},
   "outputs": [],
   "source": []
  },
  {
   "cell_type": "code",
   "execution_count": 15,
   "metadata": {},
   "outputs": [],
   "source": [
    "##test"
   ]
  },
  {
   "cell_type": "code",
   "execution_count": 335,
   "metadata": {},
   "outputs": [],
   "source": [
    "import math\n",
    "import scipy.special\n",
    "import scipy.special as sc\n",
    "import numpy as np\n",
    "\n",
    "def probability_B_beats_A(α_A, β_A, α_B, β_B):\n",
    "    total = 0.0\n",
    "    counter = 0-1\n",
    "    for i in range(0,α_B-1+1):\n",
    "        counter += 1\n",
    "        total += math.exp(scipy.special.betaln(α_A+i, β_B+β_A) - math.log(β_B+i) - scipy.special.betaln(1+i, β_B) - scipy.special.betaln(α_A, β_A))\n",
    "        #print('{}: {}'.format(counter,total))\n",
    "    return total\n",
    "\n",
    "def probability_B_beats_A2(alpha_a, beta_a, alpha_b, beta_b):\n",
    "    ## this function results in higher that double precision numbers\n",
    "    ## so returns nan without modification\n",
    "    total = 0.0\n",
    "    counter = 0-1\n",
    "    for i in range(0,alpha_b-1+1):\n",
    "        counter += 1\n",
    "        num = sc.beta(alpha_a+i, beta_a + beta_b)\n",
    "        den = (beta_b+i)*sc.beta(1+i,beta_b)*sc.beta(alpha_a,beta_a)\n",
    "        equals = num/den\n",
    "        total += equals\n",
    "        #print('{}: {}\\nadded: {}\\nnum: {}\\nden: {}'.format(counter,total,equals,num,den))\n",
    "        #print(alpha_a, beta_a, alpha_b, beta_b)\n",
    "        #print('\\n')\n",
    "    return total\n",
    "\n",
    "def probability_C_beats_A_and_B(α_A, β_A, α_B, β_B, α_C, β_C):\n",
    "    total = 0.0\n",
    "    counter = 0-1\n",
    "    for i in range(0,α_A-1+1):\n",
    "        for j in range(0,α_B-1+1):\n",
    "            counter += 1\n",
    "            total += math.exp(scipy.special.betaln(α_C+i+j, β_A+β_B+β_C) - math.log(β_A+i) - math.log(β_B+j) - scipy.special.betaln(1+i, β_A) - scipy.special.betaln(1+j, β_B) - scipy.special.betaln(α_C, β_C))\n",
    "            \n",
    "            den = -math.log(β_A+i) - math.log(β_B+j) - scipy.special.betaln(1+i, β_A) - scipy.special.betaln(1+j, β_B) - scipy.special.betaln(α_C, β_C)\n",
    "            print_this = False\n",
    "            if print_this:\n",
    "                print('\\nalphaC: {}\\ni: {}\\nj: {}\\n'.format(α_C,i,j))\n",
    "                print('\\nbetaA: {}\\nbetaB: {}\\nbetaC: {}\\n'.format(β_A, β_B, β_C))\n",
    "                print('\\nn1: {}\\nn2: {}\\n'.format(α_C+i+j, β_A+β_B+β_C))\n",
    "                print('\\nnum: {}\\nden: {}\\n'.format(scipy.special.betaln(α_C+i+j, β_A+β_B+β_C),-den))\n",
    "                print('{}: {}\\n'.format(counter,total))\n",
    "                print('*'*80)\n",
    "\n",
    "    return (1 - probability_B_beats_A(α_C, β_C, α_A, β_A) - probability_B_beats_A(α_C, β_C, α_B, β_B) + total)\n",
    "\n",
    "\n"
   ]
  },
  {
   "cell_type": "code",
   "execution_count": 284,
   "metadata": {},
   "outputs": [],
   "source": [
    "#sc.beta(1.7, 2.4)"
   ]
  },
  {
   "cell_type": "code",
   "execution_count": 285,
   "metadata": {},
   "outputs": [],
   "source": [
    "#math.log(sc.beta(1.7, 2.4))"
   ]
  },
  {
   "cell_type": "code",
   "execution_count": 286,
   "metadata": {},
   "outputs": [],
   "source": [
    "imps_ctrl,convs_ctrl=75251,44\n",
    "imps_test, convs_test=74879,49"
   ]
  },
  {
   "cell_type": "code",
   "execution_count": null,
   "metadata": {},
   "outputs": [],
   "source": [
    "imps_ctrl,convs_ctrl=1000,1\n",
    "imps_test, convs_test=1000,3"
   ]
  },
  {
   "cell_type": "code",
   "execution_count": 306,
   "metadata": {},
   "outputs": [],
   "source": [
    "imps_ctrl,convs_ctrl=1000,8\n",
    "imps_test, convs_test=1000,3"
   ]
  },
  {
   "cell_type": "code",
   "execution_count": 307,
   "metadata": {},
   "outputs": [],
   "source": [
    "alpha_a = 1 + convs_ctrl\n",
    "#beta_a = imps_ctrl - convs_ctrl + 1\n",
    "beta_a = imps_ctrl - alpha_a\n",
    "alpha_b = 1 + convs_test\n",
    "#beta_b = imps_test - convs_test + 1\n",
    "beta_b = imps_test - alpha_b\n"
   ]
  },
  {
   "cell_type": "code",
   "execution_count": 308,
   "metadata": {},
   "outputs": [
    {
     "data": {
      "text/plain": [
       "0.07239243822974664"
      ]
     },
     "execution_count": 308,
     "metadata": {},
     "output_type": "execute_result"
    }
   ],
   "source": [
    "results = probability_B_beats_A(alpha_a,beta_a,alpha_b,beta_b)\n",
    "results"
   ]
  },
  {
   "cell_type": "code",
   "execution_count": 309,
   "metadata": {},
   "outputs": [
    {
     "data": {
      "text/plain": [
       "0.9276075617698869"
      ]
     },
     "execution_count": 309,
     "metadata": {},
     "output_type": "execute_result"
    }
   ],
   "source": [
    "results2 = probability_B_beats_A2(alpha_b,beta_b,alpha_a,beta_a)\n",
    "results2"
   ]
  },
  {
   "cell_type": "code",
   "execution_count": 310,
   "metadata": {},
   "outputs": [],
   "source": [
    "#math.log(2)"
   ]
  },
  {
   "cell_type": "code",
   "execution_count": 311,
   "metadata": {},
   "outputs": [],
   "source": [
    "imps_t3, convs_t3 = 5149,2\n",
    "\n",
    "alpha_c = 1 + convs_t3\n",
    "beta_c = imps_t3 - alpha_c"
   ]
  },
  {
   "cell_type": "code",
   "execution_count": 312,
   "metadata": {},
   "outputs": [],
   "source": [
    "imps_t3, convs_t3 = 1000,8\n",
    "imps_t3, convs_t3 = 1000,1\n",
    "\n",
    "alpha_c = 1 + convs_t3\n",
    "beta_c = imps_t3 - alpha_c"
   ]
  },
  {
   "cell_type": "code",
   "execution_count": 349,
   "metadata": {},
   "outputs": [
    {
     "data": {
      "text/plain": [
       "0.008365605397855358"
      ]
     },
     "execution_count": 349,
     "metadata": {},
     "output_type": "execute_result"
    }
   ],
   "source": [
    "resultsC = probability_C_beats_A_and_B(alpha_a,beta_a,alpha_b,beta_b,alpha_c,beta_c)\n",
    "resultsC"
   ]
  },
  {
   "cell_type": "code",
   "execution_count": 348,
   "metadata": {},
   "outputs": [
    {
     "data": {
      "text/plain": [
       "0.07107051461818287"
      ]
     },
     "execution_count": 348,
     "metadata": {},
     "output_type": "execute_result"
    }
   ],
   "source": [
    "resultsB = probability_C_beats_A_and_B(alpha_a,beta_a,alpha_c,beta_c,alpha_b,beta_b)\n",
    "resultsB"
   ]
  },
  {
   "cell_type": "code",
   "execution_count": 347,
   "metadata": {
    "scrolled": true
   },
   "outputs": [
    {
     "data": {
      "text/plain": [
       "0.9205638799821985"
      ]
     },
     "execution_count": 347,
     "metadata": {},
     "output_type": "execute_result"
    }
   ],
   "source": [
    "resultsA = probability_C_beats_A_and_B(alpha_b,beta_b,alpha_c,beta_c,alpha_a,beta_a)\n",
    "resultsA"
   ]
  },
  {
   "cell_type": "code",
   "execution_count": null,
   "metadata": {},
   "outputs": [],
   "source": []
  },
  {
   "cell_type": "code",
   "execution_count": 317,
   "metadata": {},
   "outputs": [],
   "source": [
    "imps_t4, convs_t4 = 3000,33\n",
    "\n",
    "alpha_d = 1 + convs_t4\n",
    "beta_d = imps_t4 - convs_t4"
   ]
  },
  {
   "cell_type": "code",
   "execution_count": null,
   "metadata": {},
   "outputs": [],
   "source": []
  },
  {
   "cell_type": "code",
   "execution_count": 341,
   "metadata": {},
   "outputs": [],
   "source": [
    "def probability_D_beats_ABC(α_A, β_A, α_B, β_B, α_C, β_C, α_D, β_D):\n",
    "    num = 0\n",
    "    den = 0\n",
    "    total = 0.0\n",
    "    counter = 0-1\n",
    "    for i in range(0,α_A-1+1):\n",
    "        for j in range(0,α_B-1+1):\n",
    "            for k in range(0,α_C-1+1):\n",
    "                counter += 1\n",
    "                \n",
    "                num = scipy.special.betaln(α_D+i+j+k, β_A+β_B+β_C+β_D)\n",
    "                den = -math.log(β_A+i) - math.log(β_B+j) - math.log(β_C+k) - scipy.special.betaln(1+i, β_A) - scipy.special.betaln(1+j, β_B) - scipy.special.betaln(1+k, β_C) - scipy.special.betaln(α_D, β_D)\n",
    "                result = math.exp(num + den)\n",
    "                total += result\n",
    "                \n",
    "                #print('{}: num: {} | den: {}\\nresult: {} | total: {}\\n'.format(counter,num,den,result,total))\n",
    "                #print(result)\n",
    "                #print(total)\n",
    "    #print(total)\n",
    "    \n",
    "    print_this = False\n",
    "    if print_this:\n",
    "        print('d > a: {}'.format(probability_B_beats_A(α_A, β_A, α_D, β_D)))\n",
    "        print('d > b: {}'.format(probability_B_beats_A(α_B, β_B, α_D, β_D)))\n",
    "        print('d > c: {}'.format(probability_B_beats_A(α_C, β_C, α_D, β_D)))\n",
    "\n",
    "        print('d > [a,b]: {}'.format(probability_C_beats_A_and_B(α_A, β_A, α_B, β_B, α_D, β_D)))\n",
    "        print('d > [a,c]: {}'.format(probability_C_beats_A_and_B(α_A, β_A, α_C, β_C, α_D, β_D)))\n",
    "        print('d > [b,c]: {}'.format(probability_C_beats_A_and_B(α_B, β_B, α_C, β_C, α_D, β_D)))\n",
    "        \n",
    "        print('total: {}\\n'.format(total))\n",
    "              \n",
    "    return (1 - probability_B_beats_A(α_A, β_A, α_D, β_D)\n",
    "              - probability_B_beats_A(α_B, β_B, α_D, β_D)\n",
    "              - probability_B_beats_A(α_C, β_C, α_D, β_D)\n",
    "              + probability_C_beats_A_and_B(α_A, β_A, α_B, β_B, α_D, β_D)\n",
    "              + probability_C_beats_A_and_B(α_A, β_A, α_C, β_C, α_D, β_D)\n",
    "              + probability_C_beats_A_and_B(α_B, β_B, α_C, β_C, α_D, β_D)\n",
    "              - total)\n"
   ]
  },
  {
   "cell_type": "code",
   "execution_count": 343,
   "metadata": {
    "scrolled": true
   },
   "outputs": [
    {
     "name": "stdout",
     "output_type": "stream",
     "text": [
      "d > a: 0.7575350151835216\n",
      "d > b: 0.9912328062307595\n",
      "d > c: 0.9994798784692103\n",
      "d > [a,b]: 0.7527274903547132\n",
      "d > [a,c]: 0.7572770489367505\n",
      "d > [b,c]: 0.9907329463460444\n",
      "total: 1.3347246295829192e-05\n",
      "\n"
     ]
    },
    {
     "data": {
      "text/plain": [
       "0.752476438507721"
      ]
     },
     "execution_count": 343,
     "metadata": {},
     "output_type": "execute_result"
    }
   ],
   "source": [
    "resultsD=probability_D_beats_ABC(alpha_a,beta_a,alpha_b,beta_b,alpha_c,beta_c,alpha_d,beta_d)\n",
    "resultsD"
   ]
  },
  {
   "cell_type": "code",
   "execution_count": 344,
   "metadata": {},
   "outputs": [
    {
     "name": "stdout",
     "output_type": "stream",
     "text": [
      "d > a: 0.0005201215330838055\n",
      "d > b: 0.010588611509891677\n",
      "d > c: 0.1871867952306317\n",
      "d > [a,b]: 0.0003202993318650593\n",
      "d > [a,c]: 0.0005085862642167926\n",
      "d > [b,c]: 0.008365605397855358\n",
      "total: 0.8105834868478528\n",
      "\n"
     ]
    },
    {
     "data": {
      "text/plain": [
       "0.0003154758724772666"
      ]
     },
     "execution_count": 344,
     "metadata": {},
     "output_type": "execute_result"
    }
   ],
   "source": [
    "resultsC=probability_D_beats_ABC(alpha_d,beta_d,alpha_a,beta_a,alpha_b,beta_b,alpha_c,beta_c)\n",
    "resultsC"
   ]
  },
  {
   "cell_type": "code",
   "execution_count": 345,
   "metadata": {},
   "outputs": [
    {
     "name": "stdout",
     "output_type": "stream",
     "text": [
      "d > a: 0.8128132047702399\n",
      "d > b: 0.0087671937715828\n",
      "d > c: 0.07239243822974664\n",
      "d > [a,b]: 0.008758467380783008\n",
      "d > [a,c]: 0.07107051461818287\n",
      "d > [b,c]: 0.005987534120616589\n",
      "total: 0.18585986780179312\n",
      "\n"
     ]
    },
    {
     "data": {
      "text/plain": [
       "0.005983811546220019"
      ]
     },
     "execution_count": 345,
     "metadata": {},
     "output_type": "execute_result"
    }
   ],
   "source": [
    "resultsB=probability_D_beats_ABC(alpha_c,beta_c,alpha_d,beta_d,alpha_a,beta_a,alpha_b,beta_b)\n",
    "resultsB"
   ]
  },
  {
   "cell_type": "code",
   "execution_count": 346,
   "metadata": {},
   "outputs": [
    {
     "name": "stdout",
     "output_type": "stream",
     "text": [
      "d > a: 0.9276075617698882\n",
      "d > b: 0.9894113884916707\n",
      "d > c: 0.2424649848170248\n",
      "d > [a,b]: 0.9205638799821985\n",
      "d > [a,c]: 0.24128497551767486\n",
      "d > [b,c]: 0.24240265172356096\n",
      "total: 0.0035432981048746175\n",
      "\n"
     ]
    },
    {
     "data": {
      "text/plain": [
       "0.24122427403997596"
      ]
     },
     "execution_count": 346,
     "metadata": {},
     "output_type": "execute_result"
    }
   ],
   "source": [
    "resultsA=probability_D_beats_ABC(alpha_b,beta_b,alpha_c,beta_c,alpha_d,beta_d,alpha_a,beta_a)\n",
    "resultsA"
   ]
  },
  {
   "cell_type": "code",
   "execution_count": null,
   "metadata": {},
   "outputs": [],
   "source": []
  },
  {
   "cell_type": "code",
   "execution_count": 114,
   "metadata": {},
   "outputs": [
    {
     "data": {
      "text/plain": [
       "0.19666237724714614"
      ]
     },
     "execution_count": 114,
     "metadata": {},
     "output_type": "execute_result"
    }
   ],
   "source": []
  },
  {
   "cell_type": "code",
   "execution_count": null,
   "metadata": {},
   "outputs": [],
   "source": []
  }
 ],
 "metadata": {
  "jupytext": {
   "cell_metadata_filter": "-all",
   "formats": "py:light,ipynb",
   "notebook_metadata_filter": "-all",
   "text_representation": {
    "extension": ".py",
    "format_name": "light"
   }
  },
  "kernelspec": {
   "display_name": "Python 3",
   "language": "python",
   "name": "python3"
  },
  "language_info": {
   "codemirror_mode": {
    "name": "ipython",
    "version": 3
   },
   "file_extension": ".py",
   "mimetype": "text/x-python",
   "name": "python",
   "nbconvert_exporter": "python",
   "pygments_lexer": "ipython3",
   "version": "3.7.3"
  }
 },
 "nbformat": 4,
 "nbformat_minor": 4
}

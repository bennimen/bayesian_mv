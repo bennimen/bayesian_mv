{
 "cells": [
  {
   "cell_type": "code",
   "execution_count": 1,
   "metadata": {},
   "outputs": [],
   "source": [
    "import math\n",
    "import scipy.special\n",
    "import scipy.special as sc\n",
    "import numpy as np\n",
    "\n",
    "from scipy.stats import beta\n",
    "import numpy as np\n",
    "#from calc_prob import calc_prob_between\n",
    "from math import lgamma"
   ]
  },
  {
   "cell_type": "code",
   "execution_count": 2,
   "metadata": {},
   "outputs": [],
   "source": [
    "def bln(one,two):\n",
    "    return scipy.special.betaln(one, two)"
   ]
  },
  {
   "cell_type": "code",
   "execution_count": 281,
   "metadata": {},
   "outputs": [
    {
     "data": {
      "text/plain": [
       "[[1000, 8], [1000, 1], [1000, 3]]"
      ]
     },
     "execution_count": 281,
     "metadata": {},
     "output_type": "execute_result"
    }
   ],
   "source": [
    "## test data\n",
    "my_array = []\n",
    "my_array.append([1000,8])\n",
    "my_array.append([1000,1])\n",
    "my_array.append([1000,3])\n",
    "#my_array.append([1000,8])\n",
    "\n",
    "my_array"
   ]
  },
  {
   "cell_type": "code",
   "execution_count": null,
   "metadata": {},
   "outputs": [],
   "source": []
  },
  {
   "cell_type": "code",
   "execution_count": 282,
   "metadata": {},
   "outputs": [],
   "source": [
    "## alpha == nSuccesses + 1\n",
    "## beta == nFailures + 1\n",
    "##\n",
    "## alpha = nConvs + 1\n",
    "## beta == nImp - (alpha == nConvs + 1)"
   ]
  },
  {
   "cell_type": "code",
   "execution_count": 283,
   "metadata": {},
   "outputs": [
    {
     "data": {
      "text/plain": [
       "1"
      ]
     },
     "execution_count": 283,
     "metadata": {},
     "output_type": "execute_result"
    }
   ],
   "source": [
    "## test \n",
    "my_array[1][1]"
   ]
  },
  {
   "cell_type": "code",
   "execution_count": 284,
   "metadata": {},
   "outputs": [
    {
     "name": "stdout",
     "output_type": "stream",
     "text": [
      "[9, 2, 4]\n",
      "[991, 998, 996]\n"
     ]
    }
   ],
   "source": [
    "alpha = []\n",
    "beta = []\n",
    "for i in my_array:\n",
    "    alpha.append(i[1]+1)\n",
    "    beta.append(i[0]-(i[1]+1))\n",
    "print(alpha)\n",
    "print(beta)\n"
   ]
  },
  {
   "cell_type": "code",
   "execution_count": 285,
   "metadata": {},
   "outputs": [
    {
     "data": {
      "text/plain": [
       "-51.52005142923463"
      ]
     },
     "execution_count": 285,
     "metadata": {},
     "output_type": "execute_result"
    }
   ],
   "source": [
    "beta0 = bln(alpha[0],beta[0])\n",
    "beta0"
   ]
  },
  {
   "cell_type": "code",
   "execution_count": 286,
   "metadata": {},
   "outputs": [],
   "source": [
    "#sizer = len(alpha)\n",
    "#summer = np.zeros((len(alpha),1))\n",
    "#for s in range(0,sizer):\n",
    "#    summer[s] = 1\n",
    "#summer"
   ]
  },
  {
   "cell_type": "code",
   "execution_count": null,
   "metadata": {},
   "outputs": [],
   "source": []
  },
  {
   "cell_type": "code",
   "execution_count": 299,
   "metadata": {
    "scrolled": false
   },
   "outputs": [
    {
     "name": "stdout",
     "output_type": "stream",
     "text": [
      "Iteration: 0\n",
      "\n",
      "\n",
      "alpha_c: 9\n",
      "i: [0.]\n",
      "j: [0.]\n",
      "n1: [9.]\n",
      "\n",
      "\n",
      "beta_a: 991\n",
      "beta_b: 998\n",
      "beta_c: 996\n",
      "sum: 2985\n",
      "\n",
      "num: [-61.4196412]\n",
      "den: [-51.52005143]\n",
      "\n",
      "\n",
      "thisTotal: 5.019526940528076e-05\n",
      "total: 5.019526940528076e-05\n",
      "\n",
      "\n",
      "summer: [0.]\n",
      "alpha: 4\n",
      "******************************************************************************** \n",
      "\n",
      "Iteration: 1\n",
      "\n",
      "\n",
      "alpha_c: 9\n",
      "i: [0.]\n",
      "j: [1.]\n",
      "n1: [10.]\n",
      "\n",
      "\n",
      "beta_a: 991\n",
      "beta_b: 998\n",
      "beta_c: 996\n",
      "sum: 2985\n",
      "\n",
      "num: [-67.22678219]\n",
      "den: [-58.42379869]\n",
      "\n",
      "\n",
      "thisTotal: 0.00015028403304964355\n",
      "total: 0.00020047930245492432\n",
      "\n",
      "\n",
      "summer: [1.]\n",
      "alpha: 4\n",
      "******************************************************************************** \n",
      "\n",
      "Iteration: 2\n",
      "\n",
      "\n",
      "alpha_c: 9\n",
      "i: [0.]\n",
      "j: [2.]\n",
      "n1: [11.]\n",
      "\n",
      "\n",
      "beta_a: 991\n",
      "beta_b: 998\n",
      "beta_c: 996\n",
      "sum: 2985\n",
      "\n",
      "num: [-72.92889661]\n",
      "den: [-64.63540228]\n",
      "\n",
      "\n",
      "thisTotal: 0.0002501388663606538\n",
      "total: 0.0004506181688155781\n",
      "\n",
      "\n",
      "summer: [2.]\n",
      "alpha: 4\n",
      "******************************************************************************** \n",
      "\n",
      "Iteration: 3\n",
      "\n",
      "\n",
      "alpha_c: 9\n",
      "i: [0.]\n",
      "j: [3.]\n",
      "n1: [12.]\n",
      "\n",
      "\n",
      "beta_a: 991\n",
      "beta_b: 998\n",
      "beta_c: 996\n",
      "sum: 2985\n",
      "\n",
      "num: [-78.53603468]\n",
      "den: [-70.44254326]\n",
      "\n",
      "\n",
      "thisTotal: 0.0003055211921333319\n",
      "total: 0.00075613936094891\n",
      "\n",
      "\n",
      "summer: [0.]\n",
      "alpha: 2\n",
      "******************************************************************************** \n",
      "\n",
      "Iteration: 4\n",
      "\n",
      "\n",
      "alpha_c: 9\n",
      "i: [1.]\n",
      "j: [0.]\n",
      "n1: [10.]\n",
      "\n",
      "\n",
      "beta_a: 991\n",
      "beta_b: 998\n",
      "beta_c: 996\n",
      "sum: 2985\n",
      "\n",
      "num: [-67.22678219]\n",
      "den: [-58.42580471]\n",
      "\n",
      "\n",
      "thisTotal: 0.00015058580821624424\n",
      "total: 0.0009067251691651543\n",
      "\n",
      "\n",
      "summer: [0.]\n",
      "alpha: 4\n",
      "******************************************************************************** \n",
      "\n",
      "Iteration: 5\n",
      "\n",
      "\n",
      "alpha_c: 9\n",
      "i: [1.]\n",
      "j: [1.]\n",
      "n1: [11.]\n",
      "\n",
      "\n",
      "beta_a: 991\n",
      "beta_b: 998\n",
      "beta_c: 996\n",
      "sum: 2985\n",
      "\n",
      "num: [-72.92889661]\n",
      "den: [-65.32955196]\n",
      "\n",
      "\n",
      "thisTotal: 0.0005007795158020496\n",
      "total: 0.001407504684967204\n",
      "\n",
      "\n",
      "summer: [1.]\n",
      "alpha: 4\n",
      "******************************************************************************** \n",
      "\n",
      "Iteration: 6\n",
      "\n",
      "\n",
      "alpha_c: 9\n",
      "i: [1.]\n",
      "j: [2.]\n",
      "n1: [12.]\n",
      "\n",
      "\n",
      "beta_a: 991\n",
      "beta_b: 998\n",
      "beta_c: 996\n",
      "sum: 2985\n",
      "\n",
      "num: [-78.53603468]\n",
      "den: [-71.54115555]\n",
      "\n",
      "\n",
      "thisTotal: 0.0009165635763998374\n",
      "total: 0.002324068261367041\n",
      "\n",
      "\n",
      "summer: [2.]\n",
      "alpha: 4\n",
      "******************************************************************************** \n",
      "\n",
      "Iteration: 7\n",
      "\n",
      "\n",
      "alpha_c: 9\n",
      "i: [1.]\n",
      "j: [3.]\n",
      "n1: [13.]\n",
      "\n",
      "\n",
      "beta_a: 991\n",
      "beta_b: 998\n",
      "beta_c: 996\n",
      "sum: 2985\n",
      "\n",
      "num: [-84.05649509]\n",
      "den: [-77.34829654]\n",
      "\n",
      "\n",
      "thisTotal: 0.0012208614604660216\n",
      "total: 0.0035449297218330626\n",
      "\n",
      "\n",
      "summer: [0.]\n",
      "alpha: 9\n",
      "******************************************************************************** \n",
      "\n"
     ]
    },
    {
     "data": {
      "text/plain": [
       "0.0035449297218330626"
      ]
     },
     "execution_count": 299,
     "metadata": {},
     "output_type": "execute_result"
    }
   ],
   "source": [
    "sizer = len(alpha)\n",
    "summer = np.zeros((len(alpha),1))\n",
    "beta0 = bln(alpha[0],beta[0])\n",
    "#for s in range(0,sizer):\n",
    "    #summer[s] = 1\n",
    "#summer\n",
    "\n",
    "done = False\n",
    "l2 = False\n",
    "\n",
    "total = 0\n",
    "\n",
    "counter = 0-1\n",
    "while not done:\n",
    "    counter += 1\n",
    "    print('Iteration: {}\\n'.format(counter))\n",
    "    \n",
    "    num = 0\n",
    "    den = 0\n",
    "    \n",
    "    n1 = sum(summer[1:len(summer)])+alpha[0]\n",
    "    print('\\nalpha_c: {}\\ni: {}\\nj: {}\\nn1: {}\\n'.format(alpha[0],summer[1],summer[2],n1))\n",
    "    #n2 = beta0\n",
    "    n2 = sum(beta)\n",
    "    print('\\nbeta_a: {}\\nbeta_b: {}\\nbeta_c: {}\\nsum: {}\\n'.format(beta[0],beta[1],beta[2],sum(beta)))\n",
    "    num = bln(n1,n2)\n",
    "    print('num: {}'.format(num))\n",
    "    \n",
    "    ## den; part 01/02\n",
    "    c2 = 0-1\n",
    "    for de in range(0,sizer):\n",
    "        c2 += 1\n",
    "        den += math.log(beta[de] + summer[de])\n",
    "\n",
    "    ## den; part 02/02\n",
    "    c3 = 0-1\n",
    "    for de in range(0,sizer):\n",
    "        c3 += 1\n",
    "        den += bln(1+summer[de],beta[de])\n",
    "        \n",
    "    den += beta0\n",
    "    print('den: {}'.format(den))\n",
    "    print('\\n')\n",
    "    \n",
    "    ## total; part 01/01\n",
    "    total += math.exp(num-den)\n",
    "    print('thisTotal: {}\\ntotal: {}'.format(math.exp(num-den),total))\n",
    "    \n",
    "    print('\\n')\n",
    "    ## summer manipulation\n",
    "    for cd in range(sizer-1,0-1,-1):\n",
    "        #print(cd)\n",
    "        if not summer[cd]+1 >= alpha[cd]:\n",
    "            #print('if1')\n",
    "            print('summer: {}\\nalpha: {}'.format(summer[cd],alpha[cd]))\n",
    "            summer[cd] += 1\n",
    "            break\n",
    "        else:\n",
    "            #print('else')\n",
    "            l2count = 0\n",
    "            for cd2 in range(sizer-1,0-1,-1):\n",
    "                if summer[cd2]+1 == alpha[cd2]: \n",
    "                    l2count += 1\n",
    "            if l2count+1 == sizer:\n",
    "                l2=True\n",
    "\n",
    "            summer[cd] = 0\n",
    "    #l2 = True\n",
    "    if l2:\n",
    "        done = True\n",
    "    #print('\\n')\n",
    "    #print('summerArray: {}'.format(summer))\n",
    "        \n",
    "        \n",
    "    \n",
    "    \n",
    "    ## temporary\n",
    "    #if counter >=10: done = True\n",
    "    #print('\\n')\n",
    "    \n",
    "    print('*'*80,'\\n')\n",
    "    \n",
    "total"
   ]
  },
  {
   "cell_type": "code",
   "execution_count": 361,
   "metadata": {},
   "outputs": [],
   "source": [
    "def summation(alpha,beta):\n",
    "    ## returns probabilty that first value (?)\n",
    "    ## is likely to be better than the rest\n",
    "    sizer = len(alpha)\n",
    "    summer = np.zeros((len(alpha),1))\n",
    "    beta0 = bln(alpha[0],beta[0])\n",
    "    \n",
    "    done = False\n",
    "    l2 = False\n",
    "\n",
    "    total = 0\n",
    "\n",
    "    counter = 0-1\n",
    "    while not done:\n",
    "        counter += 1\n",
    "        #print('Iteration: {}\\n'.format(counter))\n",
    "\n",
    "        num = 0\n",
    "        den = 0\n",
    "\n",
    "        n1 = sum(summer[1:len(summer)])+alpha[0]\n",
    "        #print('\\nalpha_c: {}\\ni: {}\\nj: {}\\nn1: {}\\n'.format(alpha[0],summer[1],summer[2],n1))\n",
    "        #n2 = beta0\n",
    "        n2 = sum(beta)\n",
    "        #print('\\nbeta_a: {}\\nbeta_b: {}\\nbeta_c: {}\\nsum: {}\\n'.format(beta[0],beta[1],beta[2],sum(beta)))\n",
    "        num = bln(n1,n2)\n",
    "        #print('num: {}'.format(num))\n",
    "\n",
    "        ## den; part 01/02\n",
    "        c2 = 0-1\n",
    "        for de in range(0,sizer):\n",
    "            c2 += 1\n",
    "            den += math.log(beta[de] + summer[de])\n",
    "\n",
    "        ## den; part 02/02\n",
    "        c3 = 0-1\n",
    "        for de in range(0,sizer):\n",
    "            c3 += 1\n",
    "            den += bln(1+summer[de],beta[de])\n",
    "\n",
    "        den += beta0\n",
    "        #print('den: {}'.format(den))\n",
    "        #print('\\n')\n",
    "\n",
    "        ## total; part 01/01\n",
    "        total += math.exp(num-den)\n",
    "        #print('thisTotal: {}\\ntotal: {}'.format(math.exp(num-den),total))\n",
    "\n",
    "        printer = True\n",
    "        printer = False\n",
    "        if printer:\n",
    "            print('Iteration: {}\\n'.format(counter))\n",
    "            print('\\nalpha_c: {}\\ni: {}\\nj: {}\\nn1: {}\\n'.format(alpha[0],summer[1],summer[2],n1))\n",
    "            print('\\nbeta_a: {}\\nbeta_b: {}\\nbeta_c: {}\\nsum: {}\\n'.format(beta[0],beta[1],beta[2],sum(beta)))\n",
    "            print('num: {}'.format(num))\n",
    "            print('den: {}'.format(den))\n",
    "            print('\\n')\n",
    "            print('thisTotal: {}\\ntotal: {}'.format(math.exp(num-den),total))\n",
    "            print('\\n')\n",
    "            print('*'*80,'\\n')\n",
    "\n",
    "        \n",
    "        \n",
    "        #print('\\n')\n",
    "        ## summer manipulation\n",
    "        for cd in range(sizer-1,0-1,-1):\n",
    "            #print(cd)\n",
    "            if not summer[cd]+1 >= alpha[cd]:\n",
    "                #print('if1')\n",
    "                #print('summer: {}\\nalpha: {}'.format(summer[cd],alpha[cd]))\n",
    "                summer[cd] += 1\n",
    "                break\n",
    "            else:\n",
    "                #print('else')\n",
    "                l2count = 0\n",
    "                for cd2 in range(sizer-1,0-1,-1):\n",
    "                    if summer[cd2]+1 == alpha[cd2]: \n",
    "                        l2count += 1\n",
    "                if l2count+1 == sizer:\n",
    "                    l2=True\n",
    "\n",
    "                summer[cd] = 0\n",
    "        #l2 = True\n",
    "        if l2:\n",
    "            done = True\n",
    "        #print('\\n')\n",
    "        #print('summerArray: {}'.format(summer))\n",
    "\n",
    "\n",
    "\n",
    "\n",
    "        ## temporary\n",
    "        #if counter >=10: done = True\n",
    "        #print('\\n')\n",
    "\n",
    "        #print('*'*80,'\\n')\n",
    "\n",
    "    total\n",
    "    return total"
   ]
  },
  {
   "cell_type": "code",
   "execution_count": 312,
   "metadata": {
    "scrolled": true
   },
   "outputs": [
    {
     "data": {
      "text/plain": [
       "0.0035449297218330626"
      ]
     },
     "execution_count": 312,
     "metadata": {},
     "output_type": "execute_result"
    }
   ],
   "source": [
    "summation(alpha,beta)"
   ]
  },
  {
   "cell_type": "code",
   "execution_count": 42,
   "metadata": {},
   "outputs": [
    {
     "data": {
      "text/plain": [
       "[2, 4, 9]"
      ]
     },
     "execution_count": 42,
     "metadata": {},
     "output_type": "execute_result"
    }
   ],
   "source": [
    "alpha"
   ]
  },
  {
   "cell_type": "code",
   "execution_count": 135,
   "metadata": {},
   "outputs": [
    {
     "data": {
      "text/plain": [
       "([2, 4], [998, 996])"
      ]
     },
     "execution_count": 135,
     "metadata": {},
     "output_type": "execute_result"
    }
   ],
   "source": [
    "def alpha_beta(my_array):\n",
    "    alpha = []\n",
    "    beta = []\n",
    "    for i in my_array:\n",
    "        alpha.append(i[1]+1)\n",
    "        beta.append(i[0]-(i[1]+1))\n",
    "    #print(alpha)\n",
    "    #print(beta)\n",
    "    return alpha,beta\n",
    "\n",
    "alpha_beta(my_array)"
   ]
  },
  {
   "cell_type": "code",
   "execution_count": null,
   "metadata": {},
   "outputs": [],
   "source": []
  },
  {
   "cell_type": "code",
   "execution_count": 295,
   "metadata": {},
   "outputs": [
    {
     "data": {
      "text/plain": [
       "[[1000, 8], [1000, 1], [1000, 2]]"
      ]
     },
     "execution_count": 295,
     "metadata": {},
     "output_type": "execute_result"
    }
   ],
   "source": [
    "## test data\n",
    "my_array = []\n",
    "my_array.append([1000,8])\n",
    "my_array.append([1000,1])\n",
    "my_array.append([1000,2])\n",
    "#my_array.append([1000,8])\n",
    "\n",
    "my_array"
   ]
  },
  {
   "cell_type": "code",
   "execution_count": 296,
   "metadata": {},
   "outputs": [
    {
     "name": "stdout",
     "output_type": "stream",
     "text": [
      "[9, 2, 3] [991, 998, 997]\n"
     ]
    }
   ],
   "source": [
    "\n",
    "a1,b1 = alpha_beta(my_array)\n",
    "print(a1,b1)"
   ]
  },
  {
   "cell_type": "code",
   "execution_count": 297,
   "metadata": {},
   "outputs": [
    {
     "data": {
      "text/plain": [
       "0.0020139495311205157"
      ]
     },
     "execution_count": 297,
     "metadata": {},
     "output_type": "execute_result"
    }
   ],
   "source": [
    "summation(a1,b1)"
   ]
  },
  {
   "cell_type": "code",
   "execution_count": 340,
   "metadata": {},
   "outputs": [],
   "source": [
    "def pba(alpha1,beta1):\n",
    "    ## first term over second term a[0]&b[0] over a[1]&b[1]\n",
    "    #alpha_a, beta_a, alpha_b, beta_b\n",
    "    alpha_a = alpha1[0]\n",
    "    alpha_b = alpha1[1]\n",
    "    beta_a = beta1[0]\n",
    "    beta_b = beta1[1]\n",
    "    total = 0.0\n",
    "    equals = 0\n",
    "    counter = 0-1\n",
    "    for i in range(0,alpha_a-1+1):\n",
    "        counter += 1\n",
    "        num = bln(alpha_b+i, beta_a + beta_b)\n",
    "        den = math.log(beta_a+i) + bln(1+i,beta_b) + bln(alpha_b,beta_b)\n",
    "        equals = math.exp(num-den)\n",
    "        total += equals\n",
    "        #print('{}: {}\\n\\nadded: {}\\nnum: {}\\nden: {}\\n'.format(counter,total,equals,num,den),'*'*80)\n",
    "        #print(alpha_a, beta_a, alpha_b, beta_b)\n",
    "        #print('\\n')\n",
    "    return total\n",
    "\n",
    "def pab(alpha1,beta1):\n",
    "    ## first term over second term a[0]&b[0] over a[1]&b[1]\n",
    "    #alpha_a, beta_a, alpha_b, beta_b\n",
    "    alpha_a = alpha1[0]\n",
    "    alpha_b = alpha1[1]\n",
    "    beta_a = beta1[0]\n",
    "    beta_b = beta1[1]\n",
    "    total = 0.0\n",
    "    equals = 0\n",
    "    counter = 0-1\n",
    "    for i in range(0,alpha_a-1+1):\n",
    "        counter += 1\n",
    "        num = bln(alpha_b+i, beta_a + beta_b)\n",
    "        den = math.log(beta_a+i) + bln(1+i,beta_a) + bln(alpha_b,beta_b)\n",
    "        equals = math.exp(num-den)\n",
    "        total += equals\n",
    "        #print('{}: {}\\n\\nadded: {}\\nnum: {}\\nden: {}\\n'.format(counter,total,equals,num,den),'*'*80)\n",
    "        #print(alpha_a, beta_a, alpha_b, beta_b)\n",
    "        #print('\\n')\n",
    "    return total\n",
    "\n",
    "def probability_C_beats_A_and_B(a_A, ß_A, a_B, ß_B, a_C, ß_C):\n",
    "    total = 0.0\n",
    "    counter = 0-1\n",
    "    for i in range(0,a_A-1+1):\n",
    "        for j in range(0,a_B-1+1):\n",
    "            counter += 1\n",
    "            total += math.exp(scipy.special.betaln(a_C+i+j, ß_A+ß_B+ß_C) - math.log(ß_A+i) - math.log(ß_B+j) - scipy.special.betaln(1+i, ß_A) - scipy.special.betaln(1+j, ß_B) - scipy.special.betaln(a_C, ß_C))\n",
    "            #den = -math.log(ß_A+i) - math.log(ß_B+j) - scipy.special.betaln(1+i, ß_A) - scipy.special.betaln(1+j, ß_B) - scipy.special.betaln(a_C, ß_C)\n",
    "            #print('\\nalphaC: {}\\ni: {}\\nj: {}\\n'.format(a_C,i,j))\n",
    "            #print('\\nbetaA: {}\\nbetaB: {}\\nbetaC: {}\\n'.format(ß_A, ß_B, ß_C))\n",
    "            #print('\\nn1: {}\\nn2: {}\\n'.format(a_C+i+j, ß_A+ß_B+ß_C))\n",
    "            #print('\\nnum: {}\\nden: {}\\n'.format(scipy.special.betaln(a_C+i+j, ß_A+ß_B+ß_C),-den))\n",
    "            #print('{}: {}\\n'.format(counter,total))\n",
    "            \n",
    "    print(probability_B_beats_A(a_C, ß_C, a_A, ß_A))\n",
    "    print(probability_B_beats_A(a_C, ß_C, a_A, ß_A)) \n",
    "    print(total)\n",
    "\n",
    "    return (1 - probability_B_beats_A(a_C, ß_C, a_A, ß_A) - probability_B_beats_A(a_C, ß_C, a_B, ß_B) + total)\n",
    "\n",
    "\n",
    "def probability_C_beats_A_and_B2(alpha1,beta1):\n",
    "    alpha_a = alpha1[2]\n",
    "    alpha_b = alpha1[1]\n",
    "    alpha_c = alpha1[0]\n",
    "    beta_a = beta1[2]\n",
    "    beta_b = beta1[1]\n",
    "    beta_c = beta1[0]\n",
    "    total = 0.0\n",
    "    counter = 0-1\n",
    "    for i in range(0,a_A-1+1):\n",
    "        for j in range(0,a_B-1+1):\n",
    "            counter += 1\n",
    "            total += math.exp(scipy.special.betaln(a_C+i+j, ß_A+ß_B+ß_C) - math.log(ß_A+i) - math.log(ß_B+j) - scipy.special.betaln(1+i, ß_A) - scipy.special.betaln(1+j, ß_B) - scipy.special.betaln(a_C, ß_C))\n",
    "            #den = -math.log(ß_A+i) - math.log(ß_B+j) - scipy.special.betaln(1+i, ß_A) - scipy.special.betaln(1+j, ß_B) - scipy.special.betaln(a_C, ß_C)\n",
    "            #print('\\nalphaC: {}\\ni: {}\\nj: {}\\n'.format(a_C,i,j))\n",
    "            #print('\\nbetaA: {}\\nbetaB: {}\\nbetaC: {}\\n'.format(ß_A, ß_B, ß_C))\n",
    "            #print('\\nn1: {}\\nn2: {}\\n'.format(a_C+i+j, ß_A+ß_B+ß_C))\n",
    "            #print('\\nnum: {}\\nden: {}\\n'.format(scipy.special.betaln(a_C+i+j, ß_A+ß_B+ß_C),-den))\n",
    "            #print('{}: {}\\n'.format(counter,total))\n",
    "\n",
    "    return (1 - pba(alpha1,beta1) - pba(alpha1,beta1) + total)\n",
    "\n",
    "\n",
    "## nope.\n",
    "def probability_A_beats_B_and_C(alpha1,beta1):\n",
    "    alpha_a = alpha1[0]; α_A = alpha_a\n",
    "    alpha_b = alpha1[1]; α_B = alpha_b \n",
    "    alpha_c = alpha1[2]; α_C = alpha_c\n",
    "    beta_a = beta1[0]; β_A = beta_a\n",
    "    beta_b = beta1[1]; β_B = beta_b\n",
    "    beta_c = beta1[2]; β_C = beta_c\n",
    "    \n",
    "    print_ab = False\n",
    "    if print_ab:\n",
    "        print('alpha: {}'.format(alpha1))\n",
    "        #print('[[a_b,a_a][b_b,b_a]]: {},{}'.format([alpha_b,alpha_a],[beta_b,beta_a]))\n",
    "        print('beta: {}'.format(beta1))\n",
    "        \n",
    "    total = 0.0\n",
    "    counter = 0-1\n",
    "    for i in range(0,α_B-1+1):\n",
    "        for j in range(0,α_C-1+1):\n",
    "            counter += 1\n",
    "            total += math.exp(scipy.special.betaln(α_A+i+j, β_A+β_B+β_C) - math.log(β_B+i) - math.log(β_C+j) - scipy.special.betaln(1+i, β_B) - scipy.special.betaln(1+j, β_C) - scipy.special.betaln(α_A, β_A))\n",
    "            #den = -math.log(β_A+i) - math.log(β_B+j) - scipy.special.betaln(1+i, β_A) - scipy.special.betaln(1+j, β_B) - scipy.special.betaln(α_C, β_C)\n",
    "            #print('\\nalphaC: {}\\ni: {}\\nj: {}\\n'.format(α_C,i,j))\n",
    "            #print('\\nbetaA: {}\\nbetaB: {}\\nbetaC: {}\\n'.format(β_A, β_B, β_C))\n",
    "            #print('\\nn1: {}\\nn2: {}\\n'.format(α_C+i+j, β_A+β_B+β_C))\n",
    "            #print('\\nnum: {}\\nden: {}\\n'.format(scipy.special.betaln(α_C+i+j, β_A+β_B+β_C),-den))\n",
    "            #print('{}: {}\\n'.format(counter,total))\n",
    "            \n",
    "    #print('a1: {}'.format([alpha_b,alpha_a]))\n",
    "    #print('b1: {}'.format([alpha_b,alpha_a]))\n",
    "    print_this1 = False\n",
    "    if print_this1:\n",
    "        print('b > a: {}'.format(pab([alpha_b,alpha_a],[beta_b,beta_a])))\n",
    "        print('c > a: {}'.format(pab([alpha_c,alpha_a],[beta_c,beta_a])))\n",
    "        print('\\n')\n",
    "        \n",
    "    print_this = False\n",
    "    if print_this:\n",
    "        print('total: {}'.format(total))\n",
    "        print('summation fx: {}\\n'.format(summation(alpha1,beta1)))\n",
    "\n",
    "    return (1 - pab([alpha_b,alpha_a],[beta_b,beta_a]) - pab([alpha_c,alpha_a],[beta_c,beta_a]) + summation(alpha1,beta1))\n",
    "    #return (1 - pab([alpha_b,alpha_a],[beta_b,beta_a]) - pab([alpha_c,alpha_a],[beta_c,beta_a]) + total)"
   ]
  },
  {
   "cell_type": "code",
   "execution_count": 375,
   "metadata": {},
   "outputs": [],
   "source": [
    "\n",
    "def probability_A_beats_BCD(alpha1,beta1):\n",
    "    alpha_a = alpha1[0]; α_A = alpha_a\n",
    "    alpha_b = alpha1[1]; α_B = alpha_b \n",
    "    alpha_c = alpha1[2]; α_C = alpha_c\n",
    "    alpha_d = alpha1[3]; α_D = alpha_d\n",
    "    beta_a = beta1[0]; β_A = beta_a\n",
    "    beta_b = beta1[1]; β_B = beta_b\n",
    "    beta_c = beta1[2]; β_C = beta_c\n",
    "    beta_d = beta1[3]; β_D = beta_d\n",
    "    \n",
    "    print_ab = False\n",
    "    if print_ab:\n",
    "        print('alpha: {}'.format(alpha1))\n",
    "        #print('[[a_b,a_a][b_b,b_a]]: {},{}'.format([alpha_b,alpha_a],[beta_b,beta_a]))\n",
    "        print('beta: {}'.format(beta1))\n",
    "    \n",
    "    a_abc = alpha1.copy(); a_abc.pop(3)\n",
    "    #print(a_abc)\n",
    "    a_acd = alpha1.copy(); a_acd.pop(1)\n",
    "    #print(a_acd)\n",
    "    a_abd = alpha1.copy(); a_abd.pop(2)\n",
    "    #print(a_abd)\n",
    "    b_abc = beta1.copy(); b_abc.pop(3)\n",
    "    #print(b_abc)\n",
    "    b_acd = beta1.copy(); b_acd.pop(1)\n",
    "    #print(b_acd)\n",
    "    b_abd = beta1.copy(); b_abd.pop(2)\n",
    "    #print(b_abd)\n",
    "    \n",
    "    total = 0.0\n",
    "    counter = 0-1\n",
    "    for i in range(0,α_B-1+1):\n",
    "        for j in range(0,α_C-1+1):\n",
    "            for k in range(0,α_D-1+1):\n",
    "                counter += 1\n",
    "                #total += math.exp(scipy.special.betaln(α_A+i+j+k, β_A+β_B+β_C+β_D) - math.log(β_B+i) - math.log(β_C+j) - math.log(β_D+k) - scipy.special.betaln(1+i, β_B) - scipy.special.betaln(1+j, β_C) - scipy.special.betaln(1+k, β_D) - scipy.special.betaln(α_A, β_A))\n",
    "                num = scipy.special.betaln(α_A+i+j+k, β_A+β_B+β_C+β_D)\n",
    "                den = math.log(β_B+i) + math.log(β_C+j) + math.log(β_D+k) + scipy.special.betaln(1+i, β_B) + scipy.special.betaln(1+j, β_C) + scipy.special.betaln(1+k, β_D) + scipy.special.betaln(α_A, β_A)\n",
    "                result = num - den\n",
    "                total += math.exp(result)\n",
    "                #print('\\nalphaC: {}\\ni: {}\\nj: {}\\n'.format(α_C,i,j))\n",
    "                #print('\\nbetaA: {}\\nbetaB: {}\\nbetaC: {}\\n'.format(β_A, β_B, β_C))\n",
    "                #print('\\nn1: {}\\nn2: {}\\n'.format(α_C+i+j, β_A+β_B+β_C))\n",
    "                #print('\\nnum: {}\\nden: {}\\n'.format(scipy.special.betaln(α_C+i+j, β_A+β_B+β_C),-den))\n",
    "                #print('{}: {}\\n'.format(counter,total))\n",
    "\n",
    "    \n",
    "    print('\\n')\n",
    "    print_this = True\n",
    "    if print_this:\n",
    "                    \n",
    "        #print('a1: {}'.format([alpha_b,alpha_a]))\n",
    "        #print('b1: {}'.format([alpha_b,alpha_a]))\n",
    "        print('a > b: {}'.format(pab([alpha_a,alpha_b],[beta_a,beta_b])))\n",
    "        print('a > c: {}'.format(pab([alpha_a,alpha_c],[beta_a,beta_c])))\n",
    "        print('a > d: {}'.format(pab([alpha_a,alpha_d],[beta_a,beta_d])))\n",
    "\n",
    "        print('a > [b,c]: {}'.format(probability_A_beats_B_and_C(a_abc,b_abc)))\n",
    "        print('a > [b,d]: {}'.format(probability_A_beats_B_and_C(a_abd,b_abd)))\n",
    "        print('a > [c,d]: {}'.format(probability_A_beats_B_and_C(a_acd,b_acd)))  \n",
    "\n",
    "\n",
    "        #print('b > a: {}'.format(pab([alpha_b,alpha_a],[beta_b,beta_a])))\n",
    "        #print('c > a: {}'.format(pab([alpha_c,alpha_a],[beta_c,beta_a])))\n",
    "        #print('d > a: {}'.format(pab([alpha_d,alpha_a],[beta_d,beta_a])))\n",
    "\n",
    "        #print('a > [b,c]: {}'.format(probability_A_beats_B_and_C(a_abc,b_abc)))\n",
    "        #print('a > [b,d]: {}'.format(probability_A_beats_B_and_C(a_abd,b_abd)))\n",
    "        #print('a > [c,d]: {}'.format(probability_A_beats_B_and_C(a_acd,b_acd)))  \n",
    "\n",
    "        print('total: {}'.format(total))\n",
    "        print('summation fx: {}\\n'.format(summation(alpha1,beta1)))\n",
    "\n",
    "    #return (1 - pab([alpha_b,alpha_a],[beta_b,beta_a]) - pab([alpha_c,alpha_a],[beta_c,beta_a]) - pab([alpha_d,alpha_a],[beta_d,beta_a]) + probability_A_beats_B_and_C(a_abc,b_abc) + probability_A_beats_B_and_C(a_abd,b_abd) + probability_A_beats_B_and_C(a_acd,b_acd) - summation(alpha1,beta1))\n",
    "    #return (1 - pab([alpha_b,alpha_a],[beta_b,beta_a]) - pab([alpha_c,alpha_a],[beta_c,beta_a]) - pab([alpha_d,alpha_a],[beta_d,beta_a]) + probability_A_beats_B_and_C(a_abc,b_abc) + probability_A_beats_B_and_C(a_abd,b_abd) + probability_A_beats_B_and_C(a_acd,b_acd) - summation(alpha1,beta1))\n",
    "    return (1 - pab([alpha_a,alpha_b],[beta_a,beta_b]) - pab([alpha_a,alpha_c],[beta_a,beta_c]) - pab([alpha_a,alpha_d],[beta_a,beta_d]) + probability_A_beats_B_and_C(a_abc,b_abc) + probability_A_beats_B_and_C(a_abd,b_abd) + probability_A_beats_B_and_C(a_acd,b_acd) - summation(alpha1,beta1))\n",
    "    #return (1 - pab([alpha_b,alpha_a],[beta_b,beta_a]) - pab([alpha_c,alpha_a],[beta_c,beta_a]) + total)"
   ]
  },
  {
   "cell_type": "code",
   "execution_count": 314,
   "metadata": {},
   "outputs": [
    {
     "name": "stdout",
     "output_type": "stream",
     "text": [
      "0.010588611509891677\n",
      "0.010588611509891677\n",
      "0.00354492972183669\n"
     ]
    },
    {
     "data": {
      "text/plain": [
       "0.9205638799821985"
      ]
     },
     "execution_count": 314,
     "metadata": {},
     "output_type": "execute_result"
    }
   ],
   "source": [
    "## OG good\n",
    "probability_C_beats_A_and_B(a1[0],b1[0],a1[1],b1[1],a1[2],b1[2])"
   ]
  },
  {
   "cell_type": "code",
   "execution_count": 315,
   "metadata": {},
   "outputs": [
    {
     "name": "stdout",
     "output_type": "stream",
     "text": [
      "0.8128132047702399\n",
      "0.8128132047702399\n",
      "0.8105901986597656\n"
     ]
    },
    {
     "data": {
      "text/plain": [
       "0.008365605397855025"
      ]
     },
     "execution_count": 315,
     "metadata": {},
     "output_type": "execute_result"
    }
   ],
   "source": [
    "## OG good\n",
    "probability_C_beats_A_and_B(a1[1],b1[1],a1[2],b1[2],a1[0],b1[0])"
   ]
  },
  {
   "cell_type": "code",
   "execution_count": 316,
   "metadata": {},
   "outputs": [
    {
     "name": "stdout",
     "output_type": "stream",
     "text": [
      "0.9276075617698882\n",
      "0.9276075617698882\n",
      "0.1858648716187028\n"
     ]
    },
    {
     "data": {
      "text/plain": [
       "0.07107051461818287"
      ]
     },
     "execution_count": 316,
     "metadata": {},
     "output_type": "execute_result"
    }
   ],
   "source": [
    "## OG good\n",
    "probability_C_beats_A_and_B(a1[2],b1[2],a1[0],b1[0],a1[1],b1[1])"
   ]
  },
  {
   "cell_type": "code",
   "execution_count": 317,
   "metadata": {},
   "outputs": [],
   "source": [
    "#probability_A_beats_B_and_C(a1,b1)"
   ]
  },
  {
   "cell_type": "code",
   "execution_count": 362,
   "metadata": {
    "scrolled": false
   },
   "outputs": [
    {
     "name": "stdout",
     "output_type": "stream",
     "text": [
      "[[1000, 1], [1000, 3], [1000, 8]]\n",
      "[2, 4, 9] [998, 996, 991]\n",
      "\n",
      " ********************************************************************************\n",
      "[[1000, 1], [1000, 3], [1000, 8]] \n",
      "\n",
      "Probability that [1000, 1] is best: 0.008365605398840015\n",
      "Percentage: 0.84%\n",
      "\n",
      " ********************************************************************************\n",
      "\n",
      "\n",
      "[[1000, 3], [1000, 8], [1000, 1]] \n",
      "\n",
      "Probability that [1000, 3] is best: 0.07107051461819275\n",
      "Percentage: 7.11%\n",
      "\n",
      " ********************************************************************************\n",
      "\n",
      "\n",
      "[[1000, 8], [1000, 1], [1000, 3]] \n",
      "\n",
      "Probability that [1000, 8] is best: 0.9205638799821948\n",
      "Percentage: 92.06%\n",
      "\n",
      " ********************************************************************************\n",
      "\n",
      "\n"
     ]
    }
   ],
   "source": [
    "## working now\n",
    "\n",
    "## test data\n",
    "my_array = []\n",
    "my_array.append([1000,1])\n",
    "my_array.append([1000,3])\n",
    "my_array.append([1000,8])\n",
    "\n",
    "print(my_array)\n",
    "\n",
    "\n",
    "a1,b1 = alpha_beta(my_array)\n",
    "print(a1,b1)\n",
    "\n",
    "print('\\n','*'*80)\n",
    "probs = []\n",
    "for i in range(0,len(my_array)):\n",
    "    print(my_array,'\\n')\n",
    "    \n",
    "    ## calculating probability\n",
    "    probber = probability_A_beats_B_and_C(a1,b1)\n",
    "    probs.append(probber)\n",
    "    print('Probability that {} is best: {}\\nPercentage: {:.2f}%'.format([a1[0]+b1[0],a1[0]-1],probber,probber*100))\n",
    "    \n",
    "    ## reseting so function can calculate\n",
    "    toend = my_array.pop(0)\n",
    "    my_array.append(toend)\n",
    "    \n",
    "    a1,b1 = alpha_beta(my_array)\n",
    "    #print(a1,b1)\n",
    "    \n",
    "\n",
    "    print('\\n','*'*80)\n",
    "    print('\\n')\n"
   ]
  },
  {
   "cell_type": "code",
   "execution_count": 267,
   "metadata": {},
   "outputs": [
    {
     "data": {
      "text/plain": [
       "0.8118517710589361"
      ]
     },
     "execution_count": 267,
     "metadata": {},
     "output_type": "execute_result"
    }
   ],
   "source": [
    "checker = sum(probs)\n",
    "checker"
   ]
  },
  {
   "cell_type": "code",
   "execution_count": 86,
   "metadata": {},
   "outputs": [],
   "source": [
    "def probability_B_beats_A(α_A, β_A, α_B, β_B):\n",
    "    \n",
    "    total = 0.0\n",
    "    counter = 0-1\n",
    "    for i in range(0,α_B-1+1):\n",
    "        counter += 1\n",
    "        total += math.exp(scipy.special.betaln(α_A+i, β_B+β_A) - math.log(β_B+i) - scipy.special.betaln(1+i, β_B) - scipy.special.betaln(α_A, β_A))\n",
    "        #print('{}: {}'.format(counter,total))\n",
    "        #print('num: {}\\nden: {}\\n'.format(scipy.special.betaln(α_A+i, β_B+β_A),- math.log(β_B+i) - scipy.special.betaln(1+i, β_B) - scipy.special.betaln(α_A, β_A)))\n",
    "    return total"
   ]
  },
  {
   "cell_type": "code",
   "execution_count": null,
   "metadata": {},
   "outputs": [],
   "source": []
  },
  {
   "cell_type": "code",
   "execution_count": null,
   "metadata": {},
   "outputs": [],
   "source": []
  },
  {
   "cell_type": "code",
   "execution_count": 195,
   "metadata": {},
   "outputs": [],
   "source": []
  },
  {
   "cell_type": "code",
   "execution_count": 355,
   "metadata": {},
   "outputs": [
    {
     "name": "stdout",
     "output_type": "stream",
     "text": [
      "data: [[1000, 1], [1000, 3]]\n",
      "\n",
      "alpha: [2, 4]\n",
      "beta: [998, 996]\n",
      "\n",
      "probability:\n",
      "a is greater than b: 0.1871867952306317\n",
      "b is greater than a: 0.8128132047702399\n",
      "\n",
      "1.0000000000008715\n"
     ]
    }
   ],
   "source": [
    "## test data\n",
    "my_array = []\n",
    "my_array.append([1000,1]) ## a\n",
    "my_array.append([1000,3]) ## b\n",
    "print('data: {}\\n'.format(my_array))\n",
    "\n",
    "a1,b1 = alpha_beta(my_array)\n",
    "print('alpha: {}\\nbeta: {}\\n'.format(a1,b1))\n",
    "#print('\\n')\n",
    "\n",
    "aoverb = pab(a1,b1)\n",
    "bovera = pab([a1[1],a1[0]],[b1[1],b1[0]])\n",
    "\n",
    "print('probability:\\na is greater than b: {}\\nb is greater than a: {}\\n'.format(aoverb,bovera))\n",
    "print(aoverb+bovera)"
   ]
  },
  {
   "cell_type": "code",
   "execution_count": 356,
   "metadata": {},
   "outputs": [
    {
     "data": {
      "text/plain": [
       "0.010588611509891677"
      ]
     },
     "execution_count": 356,
     "metadata": {},
     "output_type": "execute_result"
    }
   ],
   "source": [
    "## a0 == first term == a\n",
    "## a1 == second term == b\n",
    "\n",
    "probability_B_beats_A(alpha[0], beta[0], alpha[1],beta[1])"
   ]
  },
  {
   "cell_type": "code",
   "execution_count": 357,
   "metadata": {},
   "outputs": [
    {
     "name": "stdout",
     "output_type": "stream",
     "text": [
      "[2, 4]\n",
      "[998, 996]\n"
     ]
    }
   ],
   "source": [
    "print(a1)\n",
    "print(b1)"
   ]
  },
  {
   "cell_type": "code",
   "execution_count": null,
   "metadata": {},
   "outputs": [],
   "source": []
  },
  {
   "cell_type": "code",
   "execution_count": 376,
   "metadata": {
    "scrolled": false
   },
   "outputs": [
    {
     "name": "stdout",
     "output_type": "stream",
     "text": [
      "[[3000, 33], [1000, 1], [1000, 3], [1000, 8]]\n",
      "[34, 2, 4, 9] [2966, 998, 996, 991]\n",
      "\n",
      " ********************************************************************************\n",
      "[[3000, 33], [1000, 1], [1000, 3], [1000, 8]] \n",
      "\n",
      "\n",
      "\n",
      "a > b: 0.9994812465099755\n",
      "a > c: 0.9912520135903041\n",
      "a > d: 0.7578246536909443\n",
      "a > [b,c]: 0.9907534432956413\n",
      "a > [b,d]: 0.7575672284171194\n",
      "a > [c,d]: 0.753025307866485\n",
      "total: 1.3291689302107951e-05\n",
      "summation fx: 1.3291689302143493e-05\n",
      "\n",
      "\n",
      "Probability that [3000, 33] is best: 0.7527747740987196\n",
      "Percentage: 75.28%\n",
      "\n",
      " ********************************************************************************\n",
      "\n",
      "\n",
      "[[1000, 1], [1000, 3], [1000, 8], [3000, 33]] \n",
      "\n",
      "\n",
      "\n",
      "a > b: 0.1871867952306317\n",
      "a > c: 0.010588611509891602\n",
      "a > d: 0.0005187534935980713\n",
      "a > [b,c]: 0.008365605398840015\n",
      "a > [b,d]: 0.0005072631641847014\n",
      "a > [c,d]: 0.0003195750405281528\n",
      "total: 0.8105835151603246\n",
      "summation fx: 0.8105835151613094\n",
      "\n",
      "\n",
      "Probability that [1000, 1] is best: 0.0003147682081220404\n",
      "Percentage: 0.03%\n",
      "\n",
      " ********************************************************************************\n",
      "\n",
      "\n",
      "[[1000, 3], [1000, 8], [3000, 33], [1000, 1]] \n",
      "\n",
      "\n",
      "\n",
      "a > b: 0.07239243822974664\n",
      "a > c: 0.008747986416746597\n",
      "a > d: 0.8128132047702399\n",
      "a > [b,c]: 0.005976243962212413\n",
      "a > [b,d]: 0.07107051461819275\n",
      "a > [c,d]: 0.008739293536134035\n",
      "total: 0.18585988865251019\n",
      "summation fx: 0.18585988865252076\n",
      "\n",
      "\n",
      "Probability that [1000, 3] is best: 0.005972534047285372\n",
      "Percentage: 0.60%\n",
      "\n",
      " ********************************************************************************\n",
      "\n",
      "\n",
      "[[1000, 8], [3000, 33], [1000, 1], [1000, 3]] \n",
      "\n",
      "\n",
      "\n",
      "a > b: 0.24217534631060023\n",
      "a > c: 0.9894113884916703\n",
      "a > d: 0.9276075617698882\n",
      "a > [b,c]: 0.24211319653240596\n",
      "a > [b,d]: 0.2409984481662305\n",
      "a > [c,d]: 0.9205638799821948\n",
      "total: 0.0035433045014618214\n",
      "summation fx: 0.0035433045014582193\n",
      "\n",
      "\n",
      "Probability that [1000, 8] is best: 0.24093792360721433\n",
      "Percentage: 24.09%\n",
      "\n",
      " ********************************************************************************\n",
      "\n",
      "\n"
     ]
    }
   ],
   "source": [
    "## ABCD WORKING\n",
    "\n",
    "## test data\n",
    "my_array = []\n",
    "my_array.append([3000,33])\n",
    "my_array.append([1000,1])\n",
    "my_array.append([1000,3])\n",
    "my_array.append([1000,8])\n",
    "\n",
    "print(my_array)\n",
    "\n",
    "\n",
    "a1,b1 = alpha_beta(my_array)\n",
    "print(a1,b1)\n",
    "\n",
    "print('\\n','*'*80)\n",
    "probs = []\n",
    "for i in range(0,len(my_array)):\n",
    "    print(my_array,'\\n')\n",
    "    \n",
    "    ## calculating probability\n",
    "    probber = probability_A_beats_BCD(a1,b1)\n",
    "    probs.append(probber)\n",
    "    print('\\nProbability that {} is best: {}\\nPercentage: {:.2f}%'.format([a1[0]+b1[0],a1[0]-1],probber,probber*100))\n",
    "    \n",
    "    ## reseting so function can calculate\n",
    "    toend = my_array.pop(0)\n",
    "    my_array.append(toend)\n",
    "    \n",
    "    a1,b1 = alpha_beta(my_array)\n",
    "    #print(a1,b1)\n",
    "    \n",
    "\n",
    "    print('\\n','*'*80)\n",
    "    print('\\n')\n",
    "\n",
    "    #probability_A_beats_BCD(alpha1,beta1)"
   ]
  },
  {
   "cell_type": "code",
   "execution_count": null,
   "metadata": {},
   "outputs": [],
   "source": []
  },
  {
   "cell_type": "code",
   "execution_count": 1,
   "metadata": {},
   "outputs": [],
   "source": [
    "## NEW TEST\n",
    "## 06092020\n",
    "## FOUND CPRIOR LIBRARY ON GITHUB\n",
    "## TESTING RESULTS"
   ]
  },
  {
   "cell_type": "code",
   "execution_count": 2,
   "metadata": {},
   "outputs": [],
   "source": [
    "from scipy import stats\n",
    "from cprior.models import BernoulliModel\n",
    "from cprior.models.bernoulli import BernoulliMVTest\n",
    "from cprior.experiment.base import Experiment"
   ]
  },
  {
   "cell_type": "code",
   "execution_count": null,
   "metadata": {},
   "outputs": [],
   "source": [
    "modelA = BernoulliModel(name=\"control\", alpha=1, beta=1)\n",
    "modelB = BernoulliModel(name=\"variation\", alpha=1, beta=1)\n",
    "modelC = BernoulliModel(name=\"variation\", alpha=1, beta=1)\n",
    "modelD = BernoulliModel(name=\"variation\", alpha=1, beta=1)\n",
    "\n",
    "mvtest = BernoulliMVTest({\"A\": modelA, \"B\": modelB, \"C\": modelC, \"D\": modelD})"
   ]
  },
  {
   "cell_type": "code",
   "execution_count": null,
   "metadata": {},
   "outputs": [],
   "source": [
    "## [[3000, 33], [1000, 1], [1000, 3], [1000, 8]]\n",
    "## [34, 2, 4, 9] [2966, 998, 996, 991]\n",
    "\n",
    "modelA = BernoulliModel(name=\"control\", beta=34, alpha=2966)\n",
    "modelB = BernoulliModel(name=\"variation\", beta=2, alpha=998)\n",
    "modelC = BernoulliModel(name=\"variation\", beta=4, alpha=996)\n",
    "modelD = BernoulliModel(name=\"variation\", beta=9, alpha=991)\n",
    "\n",
    "mvtest = BernoulliMVTest({\"A\": modelA, \"B\": modelB, \"C\": modelC, \"D\": modelD})"
   ]
  },
  {
   "cell_type": "code",
   "execution_count": null,
   "metadata": {},
   "outputs": [],
   "source": []
  },
  {
   "cell_type": "code",
   "execution_count": 31,
   "metadata": {},
   "outputs": [],
   "source": [
    "## [[3000, 33], [1000, 1], [1000, 3], [1000, 8]]\n",
    "## [34, 2, 4, 9] [2966, 998, 996, 991]\n",
    "\n",
    "modelA = BernoulliModel(name=\"control\", alpha=34, beta=2966)\n",
    "modelB = BernoulliModel(name=\"variation\", alpha=2, beta=998)\n",
    "modelC = BernoulliModel(name=\"variation\", alpha=4, beta=996)\n",
    "modelD = BernoulliModel(name=\"variation\", alpha=9, beta=991)\n",
    "\n",
    "mvtest = BernoulliMVTest({\"A\": modelA, \"B\": modelB, \"C\": modelC, \"D\": modelD})"
   ]
  },
  {
   "cell_type": "code",
   "execution_count": 23,
   "metadata": {},
   "outputs": [],
   "source": [
    "## [[3000, 33], [1000, 1], [1000, 3], [1000, 8]]\n",
    "## [34, 2, 4, 9] [2966, 998, 996, 991]\n",
    "\n",
    "modelA = BernoulliModel(name=\"control\", beta=34, alpha=2966)\n",
    "modelB = BernoulliModel(name=\"variation\", beta=2, alpha=998)\n",
    "modelC = BernoulliModel(name=\"variation\", beta=4, alpha=996)\n",
    "modelD = BernoulliModel(name=\"variation\", beta=9, alpha=991)\n",
    "\n",
    "mvtest = BernoulliMVTest({\"A\": modelA, \"B\": modelB, \"C\": modelC, \"D\": modelD})"
   ]
  },
  {
   "cell_type": "code",
   "execution_count": 24,
   "metadata": {},
   "outputs": [],
   "source": [
    "experiment = Experiment(name=\"CTR\", test=mvtest, stopping_rule=\"probability_vs_all\",\n",
    "                        epsilon=0.99, min_n_samples=1000, max_n_samples=None)"
   ]
  },
  {
   "cell_type": "code",
   "execution_count": 25,
   "metadata": {},
   "outputs": [],
   "source": [
    "# experiment = Experiment(name=\"CTR\", test=mvtest, stopping_rule=\"probability_vs_all\",\n",
    "#                         epsilon=0.59, min_n_samples=10, max_n_samples=200)\n",
    "\t\t\t\t\t\t"
   ]
  },
  {
   "cell_type": "code",
   "execution_count": 35,
   "metadata": {},
   "outputs": [],
   "source": [
    "experiment = Experiment(name=\"CTR\", test=mvtest, stopping_rule=\"probability_vs_all\",\n",
    "                        epsilon=0.95, min_n_samples=1000, max_n_samples=2000)"
   ]
  },
  {
   "cell_type": "code",
   "execution_count": 36,
   "metadata": {},
   "outputs": [],
   "source": [
    "experiment = Experiment(name=\"CTR\", test=mvtest, stopping_rule=\"probability_vs_all\",\n",
    "                        epsilon=0.95, min_n_samples=1000, max_n_samples=None)"
   ]
  },
  {
   "cell_type": "code",
   "execution_count": 37,
   "metadata": {},
   "outputs": [
    {
     "name": "stdout",
     "output_type": "stream",
     "text": [
      "=====================================================\n",
      "  Experiment: CTR\n",
      "=====================================================\n",
      "    Bayesian model:                bernoulli-beta\n",
      "    Number of variants:                         4\n",
      "\n",
      "    Options:\n",
      "      stopping rule            probability_vs_all\n",
      "      epsilon                             0.95000\n",
      "      min_n_samples                          1000\n",
      "      max_n_samples                       not set\n",
      "\n",
      "    Priors:\n",
      "\n",
      "         alpha  beta\n",
      "      A     34  2966\n",
      "      B      2   998\n",
      "      C      4   996\n",
      "      D      9   991\n",
      "  -------------------------------------------------\n",
      "\n"
     ]
    }
   ],
   "source": [
    "experiment.describe()\n",
    "\n"
   ]
  },
  {
   "cell_type": "code",
   "execution_count": null,
   "metadata": {},
   "outputs": [],
   "source": [
    "counter = 0-1\n",
    "with experiment as e:\n",
    "    while not e.termination:\n",
    "        counter += 1\n",
    "        if counter % 1000 == 0: print(counter)\n",
    "        data_A = stats.bernoulli(p=0.0223).rvs(size=25)\n",
    "        data_B = stats.bernoulli(p=0.1128).rvs(size=15)\n",
    "        data_C = stats.bernoulli(p=0.0751).rvs(size=35)\n",
    "        data_D = stats.bernoulli(p=0.0280).rvs(size=15)\n",
    "\n",
    "        e.run_update(**{\"A\": data_A, \"B\": data_B, \"C\": data_C, \"D\": data_D})\n",
    "\n",
    "    print(e.termination, e.status)\t\t\t\t\t\t\n",
    "\t"
   ]
  },
  {
   "cell_type": "code",
   "execution_count": null,
   "metadata": {},
   "outputs": [
    {
     "name": "stdout",
     "output_type": "stream",
     "text": [
      "0\n",
      "data_A: [0 0 0 0 0 0 0 0 0 0 0 0 0 0 0 0 0 0 0 0 0 0 0 0 0 0 1 0 0 0]\n",
      "data_b: [0 0 0 0 0 0 0 0 0 0 0 1 0 0 0 0 0 0 0 0 0 0 0 0 0 0 0 0 0 0]\n",
      "data_C: [0 0 0 0 0 0 0 0 0 0 0 0 1 0 0 0 0 0 0 0 0 0 0 0 0 0 0 0 0 0]\n",
      "data_D: [0 0 0 0 0 0 0 0 0 0 0 0 1 0 0 0 0 1 0 0 0 0 0 0 0 0 0 0 0 0]\n",
      "\n"
     ]
    },
    {
     "name": "stderr",
     "output_type": "stream",
     "text": [
      "c:\\users\\new user\\appdata\\local\\programs\\python\\python37-32\\cprior\\cdist\\beta.py:800: IntegrationWarning: The integral is probably divergent, or slowly convergent.\n",
      "  a, b, variant_params))[0]\n"
     ]
    },
    {
     "name": "stdout",
     "output_type": "stream",
     "text": [
      "1000\n",
      "data_A: [0 0 0 0 0 0 0 0 0 0 0 0 0 0 0 0 0 0 0 0 0 0 0 0 0 0 0 0 0 0]\n",
      "data_b: [0 0 0 0 0 0 0 0 0 0 0 1 0 0 0 0 0 0 0 0 0 0 0 0 0 0 0 0 0 0]\n",
      "data_C: [0 0 0 1 0 0 0 0 0 1 0 0 0 0 0 0 0 0 0 0 0 0 0 0 0 0 0 0 0 0]\n",
      "data_D: [0 0 0 0 0 0 0 0 0 0 0 0 0 0 0 0 0 0 0 0 0 0 0 0 0 0 0 0 0 0]\n",
      "\n",
      "2000\n",
      "data_A: [0 0 0 0 0 0 0 0 0 0 0 0 0 0 0 0 0 1 0 0 0 0 0 0 0 0 0 0 0 0]\n",
      "data_b: [0 0 0 0 0 0 0 0 0 0 1 0 0 0 0 0 0 0 0 1 1 0 0 0 0 0 0 0 1 0]\n",
      "data_C: [0 0 0 0 0 0 0 0 0 0 0 0 0 0 0 0 0 0 1 0 0 0 0 0 0 0 0 0 0 0]\n",
      "data_D: [1 0 0 0 0 0 0 0 0 0 0 0 0 0 0 1 0 0 0 0 0 0 0 0 0 0 0 1 0 1]\n",
      "\n",
      "3000\n",
      "data_A: [0 0 0 0 0 0 0 0 0 0 0 0 0 0 0 0 1 0 0 0 0 1 0 0 0 0 0 0 0 0]\n",
      "data_b: [0 0 0 0 0 0 0 0 0 0 0 0 0 0 0 0 0 0 0 0 0 1 0 0 0 0 0 0 0 0]\n",
      "data_C: [0 0 0 0 0 0 0 0 0 0 0 0 0 0 0 0 0 0 0 0 0 0 0 0 1 0 0 0 0 0]\n",
      "data_D: [0 0 1 0 0 0 0 0 0 0 0 0 0 0 0 0 0 0 0 0 0 0 0 0 0 0 0 0 0 0]\n",
      "\n",
      "4000\n",
      "data_A: [0 0 0 0 1 0 0 0 0 0 0 0 0 0 1 0 1 0 0 0 0 0 0 0 1 0 0 0 0 0]\n",
      "data_b: [1 0 0 0 0 1 0 0 0 0 0 0 0 0 0 0 0 0 0 0 0 0 1 0 0 0 0 0 0 0]\n",
      "data_C: [0 0 0 0 0 0 0 0 0 0 0 0 0 0 0 0 0 0 0 0 0 1 0 0 0 0 0 0 0 0]\n",
      "data_D: [0 0 0 0 0 0 0 0 0 1 0 0 0 0 0 0 0 0 0 0 0 0 0 0 0 0 0 0 0 0]\n",
      "\n",
      "5000\n",
      "data_A: [0 1 0 0 0 0 0 0 0 0 0 0 0 0 0 0 0 0 0 0 0 0 0 0 0 0 0 0 0 0]\n",
      "data_b: [0 0 1 0 0 0 0 0 0 0 0 0 0 0 0 0 0 0 0 0 0 0 0 0 0 0 0 0 0 0]\n",
      "data_C: [0 0 0 1 0 0 0 0 0 0 0 0 0 0 0 0 0 0 0 0 0 0 1 0 0 0 0 0 0 0]\n",
      "data_D: [0 0 0 0 0 0 0 0 0 1 0 0 0 0 0 0 0 0 1 0 0 0 0 0 1 0 0 0 0 0]\n",
      "\n",
      "6000\n",
      "data_A: [0 0 0 0 0 0 0 0 0 1 0 1 0 0 0 0 0 0 0 0 0 0 0 0 0 0 0 0 0 0]\n",
      "data_b: [0 0 0 0 1 0 0 0 0 0 0 0 0 0 0 0 0 0 0 0 0 0 0 1 1 0 0 0 0 0]\n",
      "data_C: [0 0 1 0 0 0 0 0 0 0 0 0 0 0 0 0 0 0 0 0 0 0 0 0 0 0 0 0 0 0]\n",
      "data_D: [0 0 0 0 0 0 0 0 0 0 0 0 0 0 0 0 0 0 1 0 1 0 0 0 0 0 0 0 0 0]\n",
      "\n",
      "7000\n",
      "data_A: [0 0 0 0 0 0 0 0 0 0 0 0 0 0 0 0 0 0 0 0 0 0 0 0 0 0 0 0 0 0]\n",
      "data_b: [0 0 0 0 0 0 0 0 0 0 0 0 0 0 1 0 0 0 0 0 0 0 0 0 0 1 0 0 1 0]\n",
      "data_C: [0 0 0 0 1 0 0 0 0 0 0 0 0 0 0 0 0 0 0 1 0 0 0 0 0 0 0 0 0 0]\n",
      "data_D: [0 0 0 0 0 0 0 0 0 0 0 1 0 0 1 0 0 0 0 0 0 0 0 0 0 0 0 0 0 0]\n",
      "\n",
      "8000\n",
      "data_A: [0 0 0 0 0 0 0 0 0 0 0 0 0 0 1 0 0 0 1 0 0 0 0 0 0 0 1 0 0 0]\n",
      "data_b: [0 0 0 0 0 0 0 0 0 0 0 0 0 0 0 0 0 0 1 0 0 0 0 0 0 0 1 0 0 0]\n",
      "data_C: [0 0 0 0 0 0 0 0 0 0 0 0 0 0 0 0 0 0 0 0 0 0 0 1 0 0 0 0 0 0]\n",
      "data_D: [0 0 0 0 0 0 0 1 0 1 0 0 0 0 0 0 0 0 0 0 0 0 0 0 0 1 0 0 0 0]\n",
      "\n",
      "9000\n",
      "data_A: [0 0 0 0 0 0 0 0 0 0 0 0 0 0 0 0 0 0 0 0 0 0 0 0 0 0 0 0 0 0]\n",
      "data_b: [0 0 0 0 0 0 0 0 0 0 0 0 0 0 0 0 0 0 0 1 1 0 0 0 0 0 0 0 0 0]\n",
      "data_C: [0 0 0 0 0 0 0 0 0 0 0 0 0 0 0 0 0 0 0 0 0 0 0 0 0 0 0 0 0 0]\n",
      "data_D: [0 0 0 0 0 0 0 0 0 0 0 0 0 0 0 0 1 0 0 0 0 0 0 0 0 0 0 0 0 0]\n",
      "\n",
      "10000\n",
      "data_A: [0 0 0 0 0 0 0 0 0 0 0 0 0 0 0 0 0 0 0 0 0 0 0 0 0 0 0 0 0 0]\n",
      "data_b: [0 0 0 0 0 0 0 0 0 1 0 0 0 0 0 0 0 0 0 0 1 0 0 0 0 0 0 0 0 0]\n",
      "data_C: [0 0 0 0 0 0 0 1 0 0 0 1 1 0 1 0 0 0 0 0 0 0 0 0 0 0 0 0 1 0]\n",
      "data_D: [0 1 0 0 0 0 0 0 0 0 1 0 0 1 0 0 0 0 0 0 0 0 0 0 0 0 0 0 1 0]\n",
      "\n",
      "11000\n",
      "data_A: [0 0 0 0 0 0 0 0 0 0 0 0 1 0 0 1 0 0 0 0 0 0 0 0 0 0 0 0 0 0]\n",
      "data_b: [0 0 0 0 0 0 0 0 0 0 0 0 0 0 0 0 0 1 0 0 0 0 0 0 0 0 0 0 0 0]\n",
      "data_C: [0 0 0 0 0 0 0 0 0 1 0 0 0 0 0 0 0 0 0 1 0 0 0 0 0 0 0 0 0 0]\n",
      "data_D: [0 0 0 0 0 0 0 0 0 0 0 0 0 1 0 0 0 0 0 0 0 0 0 0 0 0 0 0 0 0]\n",
      "\n",
      "12000\n",
      "data_A: [0 0 0 0 1 0 0 0 0 0 0 0 0 0 0 0 1 0 0 0 1 0 0 0 0 0 0 0 0 0]\n",
      "data_b: [0 0 0 0 0 0 0 0 0 0 0 0 0 0 1 0 0 0 0 0 0 0 0 0 0 0 0 0 0 0]\n",
      "data_C: [0 0 0 0 0 0 0 0 0 0 0 0 0 0 0 0 0 0 0 0 0 0 0 0 0 0 0 0 0 0]\n",
      "data_D: [0 0 0 0 0 0 0 0 0 0 0 1 0 0 0 0 0 0 0 0 0 0 1 0 0 0 0 0 0 0]\n",
      "\n",
      "13000\n",
      "data_A: [0 0 0 0 0 0 0 0 0 0 0 0 0 0 0 0 0 0 0 0 0 0 0 0 1 0 0 0 0 0]\n",
      "data_b: [0 0 0 0 0 1 0 0 0 0 0 0 0 0 0 0 0 0 0 0 0 0 0 0 0 0 0 0 0 0]\n",
      "data_C: [0 1 0 0 0 1 0 0 0 0 0 0 0 0 0 0 0 0 0 0 0 0 0 0 0 0 0 0 0 0]\n",
      "data_D: [0 0 0 0 0 0 0 0 0 0 0 0 0 0 0 0 0 1 0 0 0 0 0 0 0 0 0 0 0 0]\n",
      "\n",
      "14000\n",
      "data_A: [0 0 0 0 0 0 0 0 0 0 0 1 0 0 0 0 1 0 0 0 0 0 0 0 0 0 0 0 0 0]\n",
      "data_b: [0 0 0 0 0 0 0 0 0 0 0 0 0 0 0 0 0 0 0 0 0 0 0 0 0 1 0 0 0 0]\n",
      "data_C: [0 0 0 0 0 0 0 0 0 0 1 0 0 0 0 0 0 0 0 0 0 0 0 0 0 0 0 0 0 0]\n",
      "data_D: [0 0 0 0 0 0 0 0 0 0 0 0 0 0 0 0 0 0 0 0 0 0 0 0 1 0 0 0 0 0]\n",
      "\n",
      "15000\n",
      "data_A: [0 1 0 0 0 0 0 0 0 0 0 0 1 0 0 0 0 0 0 0 0 0 0 0 0 0 0 0 0 0]\n",
      "data_b: [0 0 0 0 0 0 0 0 0 0 0 0 0 0 0 0 0 0 0 0 0 0 0 0 0 0 0 0 0 0]\n",
      "data_C: [0 0 0 0 0 0 0 1 0 1 0 0 0 0 0 0 0 1 1 0 0 0 0 0 0 0 0 0 0 0]\n",
      "data_D: [0 0 0 0 0 0 0 0 0 0 0 1 0 0 0 0 0 0 0 0 0 0 0 0 0 0 0 0 0 1]\n",
      "\n",
      "16000\n",
      "data_A: [0 0 0 0 0 0 0 0 0 0 0 0 0 0 1 0 0 0 0 0 0 0 0 0 0 0 0 0 0 0]\n",
      "data_b: [0 0 0 0 0 0 0 0 0 0 0 0 0 0 0 0 0 0 0 0 0 0 0 0 0 0 0 0 0 0]\n",
      "data_C: [0 0 0 0 0 0 1 0 0 0 0 0 0 0 0 0 0 0 0 0 0 0 0 0 0 0 0 0 1 0]\n",
      "data_D: [0 0 0 0 0 0 0 0 0 0 0 0 0 0 0 0 0 0 0 0 0 0 0 0 0 0 0 0 1 0]\n",
      "\n",
      "17000\n",
      "data_A: [0 0 0 0 0 0 0 0 0 1 1 0 0 0 0 0 0 0 0 1 0 0 0 0 0 0 1 0 0 0]\n",
      "data_b: [0 0 0 0 0 0 0 0 0 0 0 0 0 0 0 0 0 0 0 0 0 0 0 0 0 0 1 0 0 0]\n",
      "data_C: [0 0 0 0 0 0 0 0 0 0 0 0 0 0 1 0 0 0 0 0 0 0 0 0 0 0 0 0 0 1]\n",
      "data_D: [0 0 0 0 0 0 0 0 0 0 1 0 0 0 0 0 0 0 0 0 0 0 0 0 0 1 0 1 0 0]\n",
      "\n",
      "18000\n",
      "data_A: [0 0 0 0 0 0 0 0 0 0 0 0 0 0 0 0 0 0 0 0 0 0 0 0 1 0 0 0 0 0]\n",
      "data_b: [0 0 0 0 0 0 0 0 0 0 0 0 0 0 0 0 0 0 0 0 0 0 0 0 0 0 0 0 0 0]\n",
      "data_C: [0 0 1 0 0 0 0 0 1 0 0 0 0 0 0 0 0 0 0 0 0 0 0 0 0 0 0 0 0 0]\n",
      "data_D: [0 0 0 0 0 0 0 0 0 0 0 0 0 0 0 0 0 0 0 0 0 0 0 0 0 0 0 0 0 0]\n",
      "\n",
      "19000\n",
      "data_A: [0 0 0 0 0 0 0 0 0 0 0 0 0 0 0 0 0 0 0 0 0 0 0 0 0 0 0 0 0 0]\n",
      "data_b: [0 0 0 0 0 0 0 0 0 1 0 0 0 0 0 0 0 0 0 0 0 0 0 0 0 0 0 0 0 0]\n",
      "data_C: [0 0 0 0 0 0 0 0 0 0 0 0 1 0 0 0 0 0 0 0 0 0 0 0 0 0 0 0 0 0]\n",
      "data_D: [0 0 0 0 0 0 0 0 0 0 0 0 0 0 0 1 0 0 0 0 0 0 0 0 0 0 0 0 0 0]\n",
      "\n",
      "20000\n",
      "data_A: [0 0 0 0 0 0 1 0 0 0 0 0 0 0 1 1 0 0 0 0 0 0 0 0 0 0 0 0 0 0]\n",
      "data_b: [1 0 0 0 0 0 0 0 0 0 0 0 0 0 0 0 0 0 0 0 0 0 0 0 0 0 0 0 0 0]\n",
      "data_C: [0 0 0 0 0 0 0 0 0 0 0 0 0 1 0 1 0 0 0 0 0 0 0 0 0 0 0 0 0 0]\n",
      "data_D: [0 0 0 0 0 0 0 1 0 0 0 0 0 0 0 0 0 0 0 0 0 0 0 0 0 0 0 1 0 0]\n",
      "\n",
      "21000\n",
      "data_A: [0 0 0 0 0 0 0 0 0 0 0 0 0 0 0 0 0 0 0 0 0 0 0 0 0 0 0 0 0 0]\n",
      "data_b: [1 0 0 0 0 0 0 0 0 1 0 0 0 0 0 0 0 0 0 0 0 0 0 0 0 1 0 0 0 0]\n",
      "data_C: [0 1 0 0 0 0 0 0 0 0 0 0 0 0 0 0 0 0 0 0 0 0 0 0 0 0 0 0 0 0]\n",
      "data_D: [0 0 0 0 0 0 0 0 0 0 0 0 0 0 0 0 0 0 0 0 0 0 0 0 0 0 0 0 0 0]\n",
      "\n",
      "22000\n",
      "data_A: [0 0 0 0 0 0 0 0 0 0 0 0 0 0 0 0 0 1 0 0 0 0 0 0 0 0 0 0 0 0]\n",
      "data_b: [0 0 0 0 0 0 0 0 0 0 0 0 0 0 0 0 0 0 1 0 0 0 0 0 0 0 0 0 0 0]\n",
      "data_C: [0 0 0 0 0 0 0 0 0 0 1 0 0 0 0 1 0 1 0 0 0 0 0 0 0 0 0 0 0 0]\n",
      "data_D: [0 0 0 0 0 0 1 0 0 0 0 0 0 0 0 0 0 0 0 0 0 0 0 0 0 0 0 0 0 0]\n",
      "\n",
      "23000\n",
      "data_A: [0 0 0 0 0 0 0 0 0 0 0 0 0 0 0 0 0 0 0 0 0 0 0 0 0 0 0 1 0 1]\n",
      "data_b: [0 0 0 0 0 0 0 0 0 1 0 0 0 0 0 0 0 0 0 0 0 0 0 0 0 0 0 0 0 0]\n",
      "data_C: [0 0 0 0 0 0 0 0 0 0 0 0 0 0 0 0 0 0 1 0 0 0 0 0 0 0 0 0 0 1]\n",
      "data_D: [0 0 0 0 0 0 0 0 0 0 0 0 0 0 0 0 0 1 0 0 0 0 0 0 0 0 0 0 0 0]\n",
      "\n",
      "24000\n",
      "data_A: [1 0 0 0 0 0 1 0 0 0 0 0 0 0 1 0 0 0 0 0 0 0 0 0 0 0 0 0 1 0]\n",
      "data_b: [0 0 0 0 0 0 0 0 0 0 0 0 0 0 0 0 0 0 0 0 0 0 0 0 0 0 0 0 0 0]\n",
      "data_C: [0 0 0 0 0 0 0 0 0 0 0 0 0 0 0 0 0 0 0 0 0 0 0 0 0 0 0 1 1 1]\n",
      "data_D: [0 0 0 0 0 0 0 0 0 0 0 0 0 0 0 0 1 0 0 0 0 0 0 0 0 0 0 1 0 0]\n",
      "\n",
      "25000\n",
      "data_A: [0 0 0 0 1 0 0 0 0 0 0 0 0 0 0 0 0 0 0 0 0 0 0 0 0 0 0 0 0 0]\n",
      "data_b: [1 0 1 0 0 0 0 0 0 0 0 0 0 0 0 0 0 0 0 0 0 0 0 0 0 0 0 0 0 0]\n",
      "data_C: [0 0 0 0 0 0 0 0 0 0 0 0 0 0 0 0 0 0 0 0 0 0 0 0 0 0 0 0 1 0]\n",
      "data_D: [0 0 0 0 0 0 0 0 0 0 0 0 0 0 0 0 0 0 0 0 0 0 0 0 0 0 0 0 0 0]\n",
      "\n",
      "26000\n",
      "data_A: [0 0 0 0 0 0 0 0 0 0 0 0 0 0 0 0 0 0 1 0 0 0 0 0 0 0 0 0 0 0]\n",
      "data_b: [0 0 0 0 0 0 0 1 0 0 0 0 0 0 0 0 0 0 0 0 0 1 0 0 0 0 0 0 0 0]\n",
      "data_C: [0 0 0 0 0 0 0 0 0 0 0 0 0 0 0 0 0 0 0 0 0 0 0 0 0 0 0 0 0 0]\n",
      "data_D: [0 0 0 1 0 0 0 0 0 0 0 0 0 0 0 0 0 0 0 1 0 0 0 0 0 0 0 0 0 0]\n",
      "\n",
      "27000\n",
      "data_A: [0 1 0 0 0 0 0 0 0 0 0 0 0 0 0 0 0 0 0 0 0 0 0 0 0 0 0 0 0 0]\n",
      "data_b: [0 0 0 0 0 0 0 0 0 0 0 0 0 0 0 0 0 0 0 0 0 0 0 0 0 1 0 0 0 0]\n",
      "data_C: [0 0 0 0 0 0 0 0 0 0 0 0 0 0 0 0 0 0 0 0 0 0 0 0 0 0 0 0 0 0]\n",
      "data_D: [0 1 0 0 0 0 0 0 0 0 0 0 0 0 0 1 0 0 0 0 0 0 0 0 0 0 0 0 0 0]\n",
      "\n",
      "28000\n",
      "data_A: [0 0 1 0 0 0 0 0 0 0 0 0 0 0 0 0 0 0 0 0 0 0 1 0 0 0 0 0 0 0]\n",
      "data_b: [0 0 0 0 0 0 1 0 0 0 0 1 0 1 1 0 0 0 0 0 0 0 0 0 0 0 0 0 0 0]\n",
      "data_C: [0 0 0 0 0 0 0 0 0 0 0 0 0 0 0 0 0 0 0 0 0 1 0 0 0 0 0 0 0 0]\n",
      "data_D: [0 0 0 0 0 0 0 0 0 0 0 0 0 0 0 0 0 0 0 0 0 0 0 0 0 0 0 0 0 0]\n",
      "\n",
      "29000\n",
      "data_A: [0 0 0 0 0 0 0 0 1 0 0 0 0 0 0 0 0 0 0 0 0 0 1 0 0 0 0 0 0 1]\n",
      "data_b: [0 0 0 0 0 1 0 0 0 0 0 0 0 0 0 0 0 0 0 0 1 0 0 0 0 0 0 0 0 0]\n",
      "data_C: [0 0 0 0 0 0 0 0 0 0 0 0 0 0 0 0 0 0 0 0 1 0 0 0 0 0 0 0 0 0]\n",
      "data_D: [0 0 0 0 0 0 0 0 0 0 0 1 0 0 0 0 0 1 1 0 0 0 0 0 1 0 0 0 0 0]\n",
      "\n"
     ]
    },
    {
     "name": "stdout",
     "output_type": "stream",
     "text": [
      "30000\n",
      "data_A: [0 0 0 0 0 0 0 0 0 0 0 0 0 0 0 0 1 1 0 0 0 0 0 0 0 0 0 0 0 0]\n",
      "data_b: [0 0 1 0 0 0 0 0 0 0 0 0 0 0 0 0 0 0 0 0 0 0 0 1 0 0 0 0 0 0]\n",
      "data_C: [0 0 0 0 0 0 0 0 1 0 0 0 0 0 0 0 0 0 0 0 0 0 0 0 1 0 1 0 0 0]\n",
      "data_D: [0 0 0 0 0 0 0 0 0 0 0 0 0 0 0 0 0 0 0 0 0 0 0 0 1 0 0 0 0 0]\n",
      "\n",
      "31000\n",
      "data_A: [0 0 0 0 0 0 0 0 0 0 0 0 0 0 0 0 0 0 0 0 1 0 0 0 1 0 0 0 0 0]\n",
      "data_b: [0 0 0 0 0 0 0 0 0 0 0 0 0 0 0 0 0 0 0 0 0 0 0 0 1 0 0 0 0 0]\n",
      "data_C: [0 0 0 0 0 1 0 0 0 0 0 0 0 1 0 0 0 0 0 1 0 0 0 0 0 0 0 0 0 0]\n",
      "data_D: [0 0 0 0 0 0 0 0 0 0 0 0 0 0 0 0 0 0 0 0 0 0 0 0 0 0 0 1 0 0]\n",
      "\n",
      "32000\n",
      "data_A: [0 0 0 0 0 0 0 0 0 0 0 0 0 0 1 0 0 0 0 0 0 0 0 0 0 0 0 0 0 0]\n",
      "data_b: [0 0 0 0 0 0 0 0 0 0 0 0 0 0 0 0 0 0 0 0 0 0 0 0 0 0 0 0 0 0]\n",
      "data_C: [1 0 0 0 1 0 0 0 0 0 0 0 0 0 0 0 0 0 0 0 0 0 0 0 0 0 0 0 1 0]\n",
      "data_D: [0 0 0 0 0 0 0 0 0 0 0 0 0 0 0 0 0 0 0 0 1 0 0 0 0 0 1 0 0 0]\n",
      "\n",
      "33000\n",
      "data_A: [0 0 0 0 0 0 0 0 1 0 0 0 0 0 0 0 0 0 0 0 0 0 0 0 0 0 0 0 0 0]\n",
      "data_b: [0 0 0 0 0 0 0 0 0 0 0 0 0 0 0 0 0 0 0 0 0 0 0 0 0 0 0 0 0 0]\n",
      "data_C: [0 0 0 0 1 0 0 0 1 0 0 0 0 0 0 0 0 0 0 0 0 0 0 0 0 0 0 1 0 0]\n",
      "data_D: [0 0 1 0 0 0 1 0 0 0 0 0 0 0 0 0 1 0 0 0 0 0 0 0 0 0 0 0 0 0]\n",
      "\n",
      "34000\n",
      "data_A: [0 0 0 0 0 0 0 0 0 0 0 0 0 0 0 0 0 0 0 1 0 0 0 0 0 0 0 0 0 0]\n",
      "data_b: [0 0 0 0 0 0 0 0 0 0 0 0 0 0 0 0 0 0 0 0 0 0 0 0 0 0 0 0 0 0]\n",
      "data_C: [0 0 0 0 0 0 0 0 0 0 0 0 0 0 0 0 0 1 0 0 0 0 0 0 0 0 0 0 0 0]\n",
      "data_D: [0 0 1 0 1 0 0 0 0 1 1 0 0 0 0 0 0 0 0 0 0 0 0 0 1 0 0 0 0 0]\n",
      "\n",
      "35000\n",
      "data_A: [0 0 0 0 0 0 1 0 0 0 0 0 0 0 0 0 0 0 0 0 0 0 0 0 1 0 0 0 0 0]\n",
      "data_b: [0 0 0 0 0 0 0 0 0 0 0 0 0 0 0 0 0 0 0 0 0 1 0 0 0 0 0 0 0 0]\n",
      "data_C: [0 0 0 0 0 0 0 0 0 0 0 0 0 0 0 0 0 0 0 0 0 1 0 0 0 0 0 0 0 0]\n",
      "data_D: [0 0 0 0 0 0 0 0 0 0 0 0 0 0 0 0 0 0 0 0 0 0 0 0 0 0 0 0 0 0]\n",
      "\n",
      "36000\n",
      "data_A: [0 0 0 0 0 0 0 0 0 0 0 0 0 1 0 0 0 0 0 0 0 0 0 0 0 0 0 0 0 0]\n",
      "data_b: [0 0 0 0 0 0 0 0 0 0 0 0 0 0 0 0 1 0 0 0 0 0 0 0 1 0 0 0 0 0]\n",
      "data_C: [0 0 0 0 0 0 0 0 0 0 0 0 0 0 0 0 0 0 0 0 0 0 0 0 0 0 0 0 0 0]\n",
      "data_D: [0 0 0 0 0 0 0 0 0 0 0 0 0 0 0 0 0 0 0 0 0 0 0 0 0 0 0 0 0 0]\n",
      "\n",
      "37000\n",
      "data_A: [0 0 0 0 0 0 0 0 0 0 0 0 0 1 0 1 0 0 0 1 0 0 1 0 0 0 0 0 0 0]\n",
      "data_b: [0 1 0 0 0 0 1 0 1 0 0 0 0 0 0 0 0 0 0 0 0 0 0 0 0 0 0 0 0 0]\n",
      "data_C: [0 0 0 1 0 0 0 0 0 0 0 0 0 0 0 0 0 0 0 1 0 0 1 0 0 0 0 0 0 0]\n",
      "data_D: [0 0 0 0 0 0 0 0 0 0 0 0 0 0 0 0 0 0 0 0 0 0 0 1 0 0 0 0 0 0]\n",
      "\n",
      "38000\n",
      "data_A: [0 0 0 0 1 0 0 0 0 0 0 0 0 0 0 0 0 0 0 0 0 0 0 0 0 0 0 0 0 0]\n",
      "data_b: [0 0 0 0 0 1 1 0 0 0 0 0 0 0 0 0 0 0 0 0 0 0 0 0 0 0 0 0 0 0]\n",
      "data_C: [0 0 0 0 0 0 0 0 0 0 0 0 0 0 0 0 0 0 0 1 0 0 0 0 0 0 0 0 0 0]\n",
      "data_D: [0 0 0 0 0 1 0 0 0 0 0 0 0 0 0 0 0 0 0 0 0 0 0 0 0 0 0 1 0 0]\n",
      "\n",
      "39000\n",
      "data_A: [0 0 0 0 0 0 0 1 0 0 0 0 0 0 0 0 0 0 0 0 0 0 0 0 0 0 1 0 0 0]\n",
      "data_b: [0 1 0 0 0 0 0 0 0 0 0 0 0 0 0 0 0 0 0 0 0 0 0 0 0 0 0 0 0 0]\n",
      "data_C: [0 0 0 0 0 0 0 0 0 0 0 0 0 0 0 0 0 0 0 0 0 0 0 0 0 0 0 0 0 0]\n",
      "data_D: [0 0 0 0 0 0 0 0 0 0 0 0 0 0 0 0 0 0 0 0 0 0 0 0 0 0 0 0 0 0]\n",
      "\n",
      "40000\n",
      "data_A: [0 0 0 0 0 0 0 0 0 0 0 0 0 0 0 0 0 0 0 0 0 0 0 0 0 0 0 0 0 1]\n",
      "data_b: [0 0 1 0 0 0 0 0 0 0 0 0 0 0 0 0 0 0 0 0 0 0 0 0 0 0 0 0 0 0]\n",
      "data_C: [0 0 1 0 0 0 0 0 0 0 0 0 0 0 0 0 0 0 0 0 0 0 0 0 0 0 0 0 0 0]\n",
      "data_D: [0 0 1 0 0 0 0 0 0 0 1 0 0 0 0 0 0 0 0 0 0 0 0 0 0 0 0 0 0 0]\n",
      "\n",
      "41000\n",
      "data_A: [0 0 0 0 0 0 0 0 0 0 0 0 0 0 0 0 0 0 0 0 0 0 0 0 0 0 0 0 0 0]\n",
      "data_b: [0 0 0 0 0 1 0 0 0 0 0 0 0 0 0 0 0 0 0 0 0 0 0 0 0 0 0 0 0 0]\n",
      "data_C: [0 0 0 0 0 0 0 0 0 0 0 0 0 0 0 0 0 0 0 0 0 0 0 0 0 0 0 0 0 0]\n",
      "data_D: [0 0 0 0 0 1 0 0 1 0 0 0 0 0 0 0 0 0 0 0 1 0 0 0 0 0 0 0 0 0]\n",
      "\n",
      "42000\n",
      "data_A: [0 0 0 0 0 0 0 0 0 0 0 0 0 0 0 0 0 0 0 0 0 0 0 0 0 0 0 0 0 0]\n",
      "data_b: [0 0 0 0 0 0 0 0 0 0 0 0 0 0 0 0 0 0 0 0 0 0 0 0 0 0 0 0 0 0]\n",
      "data_C: [0 0 0 0 0 0 0 0 0 0 0 0 0 0 0 0 0 0 0 0 0 0 0 0 0 0 0 0 0 0]\n",
      "data_D: [0 0 0 0 0 0 0 0 0 0 0 0 0 0 0 0 0 0 0 0 0 0 1 0 0 0 0 0 0 1]\n",
      "\n"
     ]
    }
   ],
   "source": [
    "counter = 0-1\n",
    "with experiment as e:\n",
    "    while not e.termination:\n",
    "        counter += 1\n",
    "        data_A = stats.bernoulli(p=0.05).rvs(size=30)\n",
    "        data_B = stats.bernoulli(p=0.05).rvs(size=30)\n",
    "        data_C = stats.bernoulli(p=0.05).rvs(size=30)\n",
    "        data_D = stats.bernoulli(p=0.05).rvs(size=30)\n",
    "        if counter % 1000 == 0: \n",
    "            print(counter)\n",
    "            print('data_A: {}\\ndata_b: {}\\ndata_C: {}\\ndata_D: {}\\n'.format(data_A,data_B,data_C,data_D))\n",
    "\n",
    "        e.run_update(**{\"A\": data_A, \"B\": data_B, \"C\": data_C, \"D\": data_D})\n",
    "\n",
    "    print(e.termination, e.status)\t\t\t\t\t\t\n",
    "    print(counter)\n",
    "\t"
   ]
  },
  {
   "cell_type": "code",
   "execution_count": null,
   "metadata": {},
   "outputs": [],
   "source": [
    "experiment.summary()"
   ]
  },
  {
   "cell_type": "code",
   "execution_count": 21,
   "metadata": {},
   "outputs": [
    {
     "data": {
      "image/png": "[encoded data removed]",
      "text/plain": [
       "<Figure size 432x288 with 1 Axes>"
      ]
     },
     "metadata": {
      "needs_background": "light"
     },
     "output_type": "display_data"
    }
   ],
   "source": [
    "experiment.plot_metric()"
   ]
  },
  {
   "cell_type": "code",
   "execution_count": 22,
   "metadata": {},
   "outputs": [
    {
     "data": {
      "image/png": "[encoded data removed]",
      "text/plain": [
       "<Figure size 432x288 with 1 Axes>"
      ]
     },
     "metadata": {
      "needs_background": "light"
     },
     "output_type": "display_data"
    }
   ],
   "source": [
    "experiment.plot_stats()"
   ]
  },
  {
   "cell_type": "code",
   "execution_count": null,
   "metadata": {},
   "outputs": [],
   "source": []
  },
  {
   "cell_type": "code",
   "execution_count": null,
   "metadata": {},
   "outputs": [],
   "source": []
  },
  {
   "cell_type": "code",
   "execution_count": null,
   "metadata": {},
   "outputs": [],
   "source": []
  },
  {
   "cell_type": "code",
   "execution_count": null,
   "metadata": {},
   "outputs": [],
   "source": []
  },
  {
   "cell_type": "code",
   "execution_count": null,
   "metadata": {},
   "outputs": [],
   "source": []
  },
  {
   "cell_type": "code",
   "execution_count": null,
   "metadata": {},
   "outputs": [],
   "source": []
  },
  {
   "cell_type": "code",
   "execution_count": null,
   "metadata": {},
   "outputs": [],
   "source": []
  }
 ],
 "metadata": {
  "kernelspec": {
   "display_name": "Python 3",
   "language": "python",
   "name": "python3"
  },
  "language_info": {
   "codemirror_mode": {
    "name": "ipython",
    "version": 3
   },
   "file_extension": ".py",
   "mimetype": "text/x-python",
   "name": "python",
   "nbconvert_exporter": "python",
   "pygments_lexer": "ipython3",
   "version": "3.7.3"
  }
 },
 "nbformat": 4,
 "nbformat_minor": 4
}

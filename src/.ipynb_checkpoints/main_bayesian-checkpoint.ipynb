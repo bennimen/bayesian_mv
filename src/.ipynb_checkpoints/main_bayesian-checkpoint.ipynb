{
 "cells": [
  {
   "cell_type": "code",
   "execution_count": null,
   "metadata": {
    "lines_to_next_cell": 1
   },
   "outputs": [],
   "source": [
    "from scipy.stats import beta\n",
    "import numpy as np\n",
    "#from calc_prob import calc_prob_between\n",
    "from math import lgamma"
   ]
  },
  {
   "cell_type": "code",
   "execution_count": null,
   "metadata": {
    "lines_to_next_cell": 1
   },
   "outputs": [],
   "source": [
    "def g0(a, b, c):    \n",
    "    return np.exp(lgamma(a + b) + lgamma(a + c) - (lgamma(a + b + c) + lgamma(a)))"
   ]
  },
  {
   "cell_type": "code",
   "execution_count": null,
   "metadata": {},
   "outputs": [],
   "source": [
    "def h(a, b, c, d):\n",
    "    num = lgamma(a + c) + lgamma(b + d) + lgamma(a + b) + lgamma(c + d)\n",
    "    den = lgamma(a) + lgamma(b) + lgamma(c) + lgamma(d) + lgamma(a + b + c + d)\n",
    "    return np.exp(num - den)"
   ]
  },
  {
   "cell_type": "code",
   "execution_count": null,
   "metadata": {
    "lines_to_next_cell": 1
   },
   "outputs": [],
   "source": [
    "def hiter(a, b, c, d):\n",
    "    while d > 1:\n",
    "        d -= 1\n",
    "        yield h(a, b, c, d) / d"
   ]
  },
  {
   "cell_type": "code",
   "execution_count": null,
   "metadata": {
    "lines_to_next_cell": 1
   },
   "outputs": [],
   "source": [
    "def g(a, b, c, d):\n",
    "    return g0(a, b, c) + sum(hiter(a, b, c, d))"
   ]
  },
  {
   "cell_type": "code",
   "execution_count": null,
   "metadata": {
    "lines_to_next_cell": 1
   },
   "outputs": [],
   "source": [
    "def calc_prob_between(beta1, beta2):\n",
    "    return g(beta1.args[0], beta1.args[1], beta2.args[0], beta2.args[1])"
   ]
  },
  {
   "cell_type": "code",
   "execution_count": null,
   "metadata": {},
   "outputs": [],
   "source": [
    "#This is the known data: imporessions and conversions for the Control and Test set\n",
    "imps_ctrl,convs_ctrl=16500, 30 \n",
    "imps_test, convs_test=17000, 50"
   ]
  },
  {
   "cell_type": "code",
   "execution_count": null,
   "metadata": {},
   "outputs": [],
   "source": [
    "imps_ctrl,convs_ctrl=734, 43\n",
    "imps_test, convs_test=704, 30"
   ]
  },
  {
   "cell_type": "code",
   "execution_count": null,
   "metadata": {},
   "outputs": [],
   "source": [
    "imps_ctrl,convs_ctrl=903, 54\n",
    "imps_test, convs_test=886, 65"
   ]
  },
  {
   "cell_type": "code",
   "execution_count": null,
   "metadata": {},
   "outputs": [],
   "source": [
    "imps_ctrl,convs_ctrl=102659,56\n",
    "imps_test, convs_test=17137, 9"
   ]
  },
  {
   "cell_type": "code",
   "execution_count": null,
   "metadata": {},
   "outputs": [],
   "source": [
    "imps_ctrl,convs_ctrl=815,16\n",
    "imps_test, convs_test=796, 15"
   ]
  },
  {
   "cell_type": "code",
   "execution_count": null,
   "metadata": {},
   "outputs": [],
   "source": [
    "imps_ctrl,convs_ctrl=43824,3\n",
    "imps_test, convs_test=43043,6"
   ]
  },
  {
   "cell_type": "code",
   "execution_count": null,
   "metadata": {},
   "outputs": [],
   "source": [
    "imps_ctrl,convs_ctrl=9280,5\n",
    "imps_test, convs_test=7715,5"
   ]
  },
  {
   "cell_type": "code",
   "execution_count": null,
   "metadata": {},
   "outputs": [],
   "source": [
    "imps_ctrl,convs_ctrl=2079,10\n",
    "imps_test, convs_test=2035,3"
   ]
  },
  {
   "cell_type": "code",
   "execution_count": null,
   "metadata": {},
   "outputs": [],
   "source": [
    "imps_ctrl,convs_ctrl=40254,23\n",
    "imps_test, convs_test=40058,30"
   ]
  },
  {
   "cell_type": "code",
   "execution_count": null,
   "metadata": {},
   "outputs": [],
   "source": [
    "imps_ctrl,convs_ctrl=75251,44\n",
    "imps_test, convs_test=74879,49"
   ]
  },
  {
   "cell_type": "code",
   "execution_count": null,
   "metadata": {},
   "outputs": [],
   "source": [
    "convs_test_og = convs_test"
   ]
  },
  {
   "cell_type": "code",
   "execution_count": null,
   "metadata": {},
   "outputs": [],
   "source": [
    "print('\\n')\n",
    "print('Option A:\\nImpressions: {}\\nConversions: {}\\n'.format(imps_ctrl, convs_ctrl))\n",
    "print('Option A:\\nImpressions: {}\\nConversions: {}\\n'.format(imps_test, convs_test))"
   ]
  },
  {
   "cell_type": "code",
   "execution_count": null,
   "metadata": {},
   "outputs": [],
   "source": [
    "#here we create the Beta functions for the two sets\n",
    "a_C, b_C = convs_ctrl+1, imps_ctrl-convs_ctrl+1\n",
    "beta_C = beta(a_C, b_C)\n",
    "a_T, b_T = convs_test+1, imps_test-convs_test+1\n",
    "beta_T = beta(a_T, b_T)"
   ]
  },
  {
   "cell_type": "code",
   "execution_count": null,
   "metadata": {},
   "outputs": [],
   "source": [
    "#calculating the lift\n",
    "lift=(beta_T.mean()-beta_C.mean())/beta_C.mean()"
   ]
  },
  {
   "cell_type": "code",
   "execution_count": null,
   "metadata": {},
   "outputs": [],
   "source": [
    "#calculating the probability for Test to be better than Control\n",
    "prob=calc_prob_between(beta_T, beta_C)"
   ]
  },
  {
   "cell_type": "code",
   "execution_count": null,
   "metadata": {
    "lines_to_next_cell": 2
   },
   "outputs": [],
   "source": [
    "print (f\"Test option lift Conversion Rates by {lift*100:2.2f}% with {prob*100:2.1f}% probability.\")\n",
    "#output: Test option lift Conversion Rates by 59.68% with 98.2% probability."
   ]
  },
  {
   "cell_type": "code",
   "execution_count": null,
   "metadata": {},
   "outputs": [],
   "source": [
    "while prob*100 < 95:\n",
    "\n",
    "\n",
    "    #imps_ctrl,convs_ctrl=734, 43\n",
    "    #imps_test, convs_test=704, 59\n",
    "    convs_test += 1\n",
    "    #here we create the Beta functions for the two sets\n",
    "    a_C, b_C = convs_ctrl+1, imps_ctrl-convs_ctrl+1\n",
    "    beta_C = beta(a_C, b_C)\n",
    "    a_T, b_T = convs_test+1, imps_test-convs_test+1\n",
    "    beta_T = beta(a_T, b_T)\n",
    "\n",
    "    #calculating the lift\n",
    "    lift=(beta_T.mean()-beta_C.mean())/beta_C.mean()\n",
    "\n",
    "    #calculating the probability for Test to be better than Control\n",
    "    prob=calc_prob_between(beta_T, beta_C)\n",
    "    convs_test += 1"
   ]
  },
  {
   "cell_type": "code",
   "execution_count": null,
   "metadata": {},
   "outputs": [],
   "source": [
    "print('\\nConversions in Option B need for at least 95% probability: {}'.format(convs_test))\n",
    "print('Additional: {}\\n'.format(convs_test-convs_test_og))\n",
    "print (f\"SIMULATION: lift Conversion Rates by {lift*100:2.2f}% with {prob*100:2.1f}% probability.\")\n",
    "#output: Test option lift Conversion Rates by 59.68% with 98.2% probability."
   ]
  },
  {
   "cell_type": "code",
   "execution_count": null,
   "metadata": {},
   "outputs": [],
   "source": []
  },
  {
   "cell_type": "code",
   "execution_count": null,
   "metadata": {},
   "outputs": [],
   "source": [
    "import math\n",
    "\n",
    "function probability_B_beats_A(α_A, β_A, α_B, β_B)\n",
    "    total = 0.0\n",
    "    for i = 0:(α_B-1)\n",
    "        total += exp(logbeta(α_A+i, β_B+β_A)\n",
    "            - log(β_B+i) - logbeta(1+i, β_B) - logbeta(α_A, β_A))\n",
    "    end\n",
    "    return total\n",
    "end"
   ]
  },
  {
   "cell_type": "code",
   "execution_count": null,
   "metadata": {},
   "outputs": [],
   "source": []
  },
  {
   "cell_type": "code",
   "execution_count": null,
   "metadata": {},
   "outputs": [],
   "source": []
  },
  {
   "cell_type": "code",
   "execution_count": null,
   "metadata": {},
   "outputs": [],
   "source": []
  },
  {
   "cell_type": "code",
   "execution_count": null,
   "metadata": {},
   "outputs": [],
   "source": []
  }
 ],
 "metadata": {
  "jupytext": {
   "cell_metadata_filter": "-all",
   "formats": "py:light,ipynb",
   "notebook_metadata_filter": "-all",
   "text_representation": {
    "extension": ".py",
    "format_name": "light"
   }
  },
  "kernelspec": {
   "display_name": "Python 3",
   "language": "python",
   "name": "python3"
  },
  "language_info": {
   "codemirror_mode": {
    "name": "ipython",
    "version": 3
   },
   "file_extension": ".py",
   "mimetype": "text/x-python",
   "name": "python",
   "nbconvert_exporter": "python",
   "pygments_lexer": "ipython3",
   "version": "3.7.3"
  }
 },
 "nbformat": 4,
 "nbformat_minor": 4
}
